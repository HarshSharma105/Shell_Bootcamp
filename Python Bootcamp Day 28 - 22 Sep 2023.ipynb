{
 "cells": [
  {
   "cell_type": "code",
   "execution_count": 11,
   "id": "adff9d6a",
   "metadata": {},
   "outputs": [
    {
     "name": "stderr",
     "output_type": "stream",
     "text": [
      "\r",
      "[Stage 33:=============================>                            (1 + 1) / 2]\r",
      "\r",
      "                                                                                \r"
     ]
    },
    {
     "name": "stdout",
     "output_type": "stream",
     "text": [
      "+---------+------------------+--------------------+-----------+---------------+---------+------------+--------------------+\n",
      "|C_CUSTKEY|            C_NAME|           C_ADDRESS|C_NATIONKEY|        C_PHONE|C_ACCTBAL|C_MKTSEGMENT|           C_COMMENT|\n",
      "+---------+------------------+--------------------+-----------+---------------+---------+------------+--------------------+\n",
      "|        1|Customer#000000001|   IVhzIApeRb ot,c,E|         15|25-989-741-2988|   711.56|    BUILDING|to the even, regu...|\n",
      "|        2|Customer#000000002|XSTf4,NCwDVaWNe6t...|         13|23-768-687-3665|   121.65|  AUTOMOBILE|l accounts. blith...|\n",
      "|        3|Customer#000000003|        MG9kdTD2WBHm|          1|11-719-748-3364|  7498.12|  AUTOMOBILE| deposits eat sly...|\n",
      "|        4|Customer#000000004|         XxVSJsLAGtn|          4|14-128-190-5944|  2866.83|   MACHINERY| requests. final,...|\n",
      "|        5|Customer#000000005|KvpyuHCplrB84WgAi...|          3|13-750-942-6364|   794.47|   HOUSEHOLD|n accounts will h...|\n",
      "|        6|Customer#000000006|sKZz0CsnMD7mp4Xd0...|         20|30-114-968-4951|  7638.57|  AUTOMOBILE|tions. even depos...|\n",
      "|        7|Customer#000000007|TcGe5gaZNgVePxU5k...|         18|28-190-982-9759|  9561.95|  AUTOMOBILE|ainst the ironic,...|\n",
      "|        8|Customer#000000008|I0B10bB0AymmC, 0P...|         17|27-147-574-9335|  6819.74|    BUILDING|among the slyly r...|\n",
      "|        9|Customer#000000009|xKiAFTjUsCuxfeleN...|          8|18-338-906-3675|  8324.07|   FURNITURE|r theodolites acc...|\n",
      "|       10|Customer#000000010|6LrEaV6KR6PLVcgl2...|          5|15-741-346-9870|  2753.54|   HOUSEHOLD|es regular deposi...|\n",
      "|       11|Customer#000000011|PkWS 3HlXqwTuzrKg...|         23|33-464-151-3439|   -272.6|    BUILDING|ckages. requests ...|\n",
      "|       12|Customer#000000012|       9PWKuhzT4Zr1Q|         13|23-791-276-1263|  3396.49|   HOUSEHOLD| to the carefully...|\n",
      "|       13|Customer#000000013|nsXQu0oVjD7PM659u...|          3|13-761-547-5974|  3857.34|    BUILDING|ounts sleep caref...|\n",
      "|       14|Customer#000000014|     KXkletMlL2JQEA |          1|11-845-129-3851|   5266.3|   FURNITURE|, ironic packages...|\n",
      "|       15|Customer#000000015|YtWggXoOLdwdo7b0y...|         23|33-687-542-7601|  2788.52|   HOUSEHOLD| platelets. regul...|\n",
      "|       16|Customer#000000016| cYiaeMLZSMAOQ2 d0W,|         10|20-781-609-3107|  4681.03|   FURNITURE|kly silent courts...|\n",
      "|       17|Customer#000000017|izrh 6jdqtp2eqdtb...|          2|12-970-682-3487|     6.34|  AUTOMOBILE|packages wake! bl...|\n",
      "|       18|Customer#000000018|3txGO AiuFux3zT0Z...|          6|16-155-215-1315|  5494.43|    BUILDING|s sleep. carefull...|\n",
      "|       19|Customer#000000019|uc,3bHIx84H,wdrmL...|         18|28-396-526-5053|  8914.71|   HOUSEHOLD| nag. furiously c...|\n",
      "|       20|Customer#000000020|       JrPk8Pqplj4Ne|         22|32-957-234-8742|   7603.4|   FURNITURE|g alongside of th...|\n",
      "+---------+------------------+--------------------+-----------+---------------+---------+------------+--------------------+\n",
      "only showing top 20 rows\n",
      "\n",
      "+----------+---------+---------+------------+----------+---------------+----------+-----+------------+------------+----------+------------+-------------+-----------------+----------+--------------------+\n",
      "|L_ORDERKEY|L_PARTKEY|L_SUPPKEY|L_LINENUMBER|L_QUANTITY|L_EXTENDEDPRICE|L_DISCOUNT|L_TAX|L_RETURNFLAG|L_LINESTATUS|L_SHIPDATE|L_COMMITDATE|L_RECEIPTDATE|   L_SHIPINSTRUCT|L_SHIPMODE|           L_COMMENT|\n",
      "+----------+---------+---------+------------+----------+---------------+----------+-----+------------+------------+----------+------------+-------------+-----------------+----------+--------------------+\n",
      "|         1|     1552|       93|           1|      17.0|       24710.35|      0.04| 0.02|           N|           O|1996-03-13|  1996-02-12|   1996-03-22|DELIVER IN PERSON|     TRUCK|egular courts abo...|\n",
      "|         1|      674|       75|           2|      36.0|       56688.12|      0.09| 0.06|           N|           O|1996-04-12|  1996-02-28|   1996-04-20| TAKE BACK RETURN|      MAIL|ly final dependen...|\n",
      "|         1|      637|       38|           3|       8.0|       12301.04|       0.1| 0.02|           N|           O|1996-01-29|  1996-03-05|   1996-01-31| TAKE BACK RETURN|   REG AIR|riously. regular,...|\n",
      "|         1|       22|       48|           4|      28.0|       25816.56|      0.09| 0.06|           N|           O|1996-04-21|  1996-03-30|   1996-05-16|             NONE|       AIR|lites. fluffily e...|\n",
      "|         1|      241|       23|           5|      24.0|       27389.76|       0.1| 0.04|           N|           O|1996-03-30|  1996-03-14|   1996-04-01|             NONE|       FOB| pending foxes. s...|\n",
      "|         1|      157|       10|           6|      32.0|        33828.8|      0.07| 0.02|           N|           O|1996-01-30|  1996-02-07|   1996-02-03|DELIVER IN PERSON|      MAIL|   arefully slyly ex|\n",
      "|         2|     1062|       33|           1|      38.0|       36596.28|       0.0| 0.05|           N|           O|1997-01-28|  1997-01-14|   1997-02-02| TAKE BACK RETURN|      RAIL|ven requests. dep...|\n",
      "|         3|       43|       19|           1|      45.0|        42436.8|      0.06|  0.0|           R|           F|1994-02-02|  1994-01-04|   1994-02-23|             NONE|       AIR|ongside of the fu...|\n",
      "|         3|      191|       70|           2|      49.0|       53468.31|       0.1|  0.0|           R|           F|1993-11-09|  1993-12-20|   1993-11-24| TAKE BACK RETURN|      RAIL| unusual accounts...|\n",
      "|         3|     1285|       60|           3|      27.0|       32029.56|      0.06| 0.07|           A|           F|1994-01-16|  1993-11-22|   1994-01-23|DELIVER IN PERSON|      SHIP|    nal foxes wake. |\n",
      "|         3|      294|       22|           4|       2.0|        2388.58|      0.01| 0.06|           A|           F|1993-12-04|  1994-01-07|   1994-01-01|             NONE|     TRUCK|y. fluffily pendi...|\n",
      "|         3|     1831|       61|           5|      28.0|       48519.24|      0.04|  0.0|           R|           F|1993-12-14|  1994-01-10|   1994-01-01| TAKE BACK RETURN|       FOB|ages nag slyly pe...|\n",
      "|         3|      622|       16|           6|      26.0|       39588.12|       0.1| 0.02|           A|           F|1993-10-29|  1993-12-18|   1993-11-04| TAKE BACK RETURN|      RAIL|ges sleep after t...|\n",
      "|         4|      881|       81|           1|      30.0|        53456.4|      0.03| 0.08|           N|           O|1996-01-10|  1995-12-14|   1996-01-18|DELIVER IN PERSON|   REG AIR|- quickly regular...|\n",
      "|         5|     1086|       87|           1|      15.0|        14806.2|      0.02| 0.04|           R|           F|1994-10-31|  1994-08-31|   1994-11-20|             NONE|       AIR|  ts wake furiously |\n",
      "|         5|     1240|       41|           2|      26.0|       29672.24|      0.07| 0.08|           R|           F|1994-10-16|  1994-09-25|   1994-10-19|             NONE|       FOB|sts use slyly qui...|\n",
      "|         5|      376|        5|           3|      50.0|        63818.5|      0.08| 0.03|           A|           F|1994-08-08|  1994-10-13|   1994-08-26|DELIVER IN PERSON|       AIR|eodolites. fluffi...|\n",
      "|         6|     1397|       36|           1|      37.0|       48040.43|      0.08| 0.03|           A|           F|1992-04-27|  1992-05-15|   1992-05-02| TAKE BACK RETURN|     TRUCK|p furiously speci...|\n",
      "|         7|     1821|       51|           1|      12.0|       20673.84|      0.07| 0.03|           N|           O|1996-05-07|  1996-03-13|   1996-06-03| TAKE BACK RETURN|       FOB|ss pinto beans wa...|\n",
      "|         7|     1453|       93|           2|       9.0|       12190.05|      0.08| 0.08|           N|           O|1996-02-01|  1996-03-02|   1996-02-19| TAKE BACK RETURN|      SHIP|    es. instructions|\n",
      "+----------+---------+---------+------------+----------+---------------+----------+-----+------------+------------+----------+------------+-------------+-----------------+----------+--------------------+\n",
      "only showing top 20 rows\n",
      "\n",
      "+-----------+----------+-----------+--------------------+\n",
      "|N_NATIONKEY|    N_NAME|N_REGIONKEY|           N_COMMENT|\n",
      "+-----------+----------+-----------+--------------------+\n",
      "|          0|   ALGERIA|          0| haggle. carefull...|\n",
      "|          1| ARGENTINA|          1|al foxes promise ...|\n",
      "|          2|    BRAZIL|          1|y alongside of th...|\n",
      "|          3|    CANADA|          1|eas hang ironic, ...|\n",
      "|          4|     EGYPT|          4|y above the caref...|\n",
      "|          5|  ETHIOPIA|          0|ven packages wake...|\n",
      "|          6|    FRANCE|          3|refully final req...|\n",
      "|          7|   GERMANY|          3|l platelets. regu...|\n",
      "|          8|     INDIA|          2|ss excuses cajole...|\n",
      "|          9| INDONESIA|          2| slyly express as...|\n",
      "|         10|      IRAN|          4|efully alongside ...|\n",
      "|         11|      IRAQ|          4|nic deposits boos...|\n",
      "|         12|     JAPAN|          2|ously. final, exp...|\n",
      "|         13|    JORDAN|          4|ic deposits are b...|\n",
      "|         14|     KENYA|          0| pending excuses ...|\n",
      "|         15|   MOROCCO|          0|rns. blithely bol...|\n",
      "|         16|MOZAMBIQUE|          0|s. ironic, unusua...|\n",
      "|         17|      PERU|          1|platelets. blithe...|\n",
      "|         18|     CHINA|          2|c dependencies. f...|\n",
      "|         19|   ROMANIA|          3|ular asymptotes a...|\n",
      "+-----------+----------+-----------+--------------------+\n",
      "only showing top 20 rows\n",
      "\n"
     ]
    },
    {
     "name": "stdout",
     "output_type": "stream",
     "text": [
      "+----------+---------+-------------+------------+-----------+---------------+---------------+--------------+--------------------+\n",
      "|O_ORDERKEY|O_CUSTKEY|O_ORDERSTATUS|O_TOTALPRICE|O_ORDERDATE|O_ORDERPRIORITY|        O_CLERK|O_SHIPPRIORITY|           O_COMMENT|\n",
      "+----------+---------+-------------+------------+-----------+---------------+---------------+--------------+--------------------+\n",
      "|         1|      370|            O|   172799.49| 1996-01-02|          5-LOW|Clerk#000000951|             0|nstructions sleep...|\n",
      "|         2|      781|            O|    38426.09| 1996-12-01|       1-URGENT|Clerk#000000880|             0| foxes. pending a...|\n",
      "|         3|     1234|            F|    205654.3| 1993-10-14|          5-LOW|Clerk#000000955|             0|sly final account...|\n",
      "|         4|     1369|            O|    56000.91| 1995-10-11|          5-LOW|Clerk#000000124|             0|sits. slyly regul...|\n",
      "|         5|      445|            F|   105367.67| 1994-07-30|          5-LOW|Clerk#000000925|             0|quickly. bold dep...|\n",
      "|         6|      557|            F|     45523.1| 1992-02-21|4-NOT SPECIFIED|Clerk#000000058|             0|ggle. special, fi...|\n",
      "|         7|      392|            O|   271885.66| 1996-01-10|         2-HIGH|Clerk#000000470|             0|ly special requests |\n",
      "|        32|     1301|            O|   198665.57| 1995-07-16|         2-HIGH|Clerk#000000616|             0|ise blithely bold...|\n",
      "|        33|      670|            F|   146567.24| 1993-10-27|       3-MEDIUM|Clerk#000000409|             0|uriously. furious...|\n",
      "|        34|      611|            O|    73315.48| 1998-07-21|       3-MEDIUM|Clerk#000000223|             0|ly final packages...|\n",
      "|        35|     1276|            O|   194641.93| 1995-10-23|4-NOT SPECIFIED|Clerk#000000259|             0|zzle. carefully e...|\n",
      "|        36|     1153|            O|    42011.04| 1995-11-03|       1-URGENT|Clerk#000000358|             0| quick packages a...|\n",
      "|        37|      862|            F|   131896.49| 1992-06-03|       3-MEDIUM|Clerk#000000456|             0|kly regular pinto...|\n",
      "|        38|     1249|            O|    71553.08| 1996-08-21|4-NOT SPECIFIED|Clerk#000000604|             0|haggle blithely. ...|\n",
      "|        39|      818|            O|   326565.37| 1996-09-20|       3-MEDIUM|Clerk#000000659|             0|ole express, iron...|\n",
      "|        64|      322|            F|    35831.73| 1994-07-16|       3-MEDIUM|Clerk#000000661|             0|wake fluffily. so...|\n",
      "|        65|      163|            P|    95469.44| 1995-03-18|       1-URGENT|Clerk#000000632|             0|ular requests are...|\n",
      "|        66|     1292|            F|   104190.66| 1994-01-20|          5-LOW|Clerk#000000743|             0|y pending request...|\n",
      "|        67|      568|            O|   182481.16| 1996-12-19|4-NOT SPECIFIED|Clerk#000000547|             0|symptotes haggle ...|\n",
      "|        68|      286|            O|   301968.79| 1998-04-18|       3-MEDIUM|Clerk#000000440|             0| pinto beans slee...|\n",
      "+----------+---------+-------------+------------+-----------+---------------+---------------+--------------+--------------------+\n",
      "only showing top 20 rows\n",
      "\n",
      "+---------+--------------------+--------------+--------+--------------------+------+-----------+-------------+--------------------+\n",
      "|P_PARTKEY|              P_NAME|        P_MFGR| P_BRAND|              P_TYPE|P_SIZE|P_CONTAINER|P_RETAILPRICE|           P_COMMENT|\n",
      "+---------+--------------------+--------------+--------+--------------------+------+-----------+-------------+--------------------+\n",
      "|        1|goldenrod lavende...|Manufacturer#1|Brand#13|PROMO BURNISHED C...|     7|  JUMBO PKG|        901.0|     ly. slyly ironi|\n",
      "|        2|blush thistle blu...|Manufacturer#1|Brand#13| LARGE BRUSHED BRASS|     1|    LG CASE|        902.0|    lar accounts amo|\n",
      "|        3|spring green yell...|Manufacturer#4|Brand#42|STANDARD POLISHED...|    21|  WRAP CASE|        903.0| egular deposits hag|\n",
      "|        4|cornflower chocol...|Manufacturer#3|Brand#34|  SMALL PLATED BRASS|    14|   MED DRUM|        904.0|       p furiously r|\n",
      "|        5|forest brown cora...|Manufacturer#3|Brand#32|STANDARD POLISHED...|    15|     SM PKG|        905.0|     wake carefully |\n",
      "|        6|bisque cornflower...|Manufacturer#2|Brand#24|  PROMO PLATED STEEL|     4|    MED BAG|        906.0|              sual a|\n",
      "|        7|moccasin green th...|Manufacturer#1|Brand#11| SMALL PLATED COPPER|    45|     SM BAG|        907.0|            lyly. ex|\n",
      "|        8|misty lace thistl...|Manufacturer#4|Brand#44| PROMO BURNISHED TIN|    41|    LG DRUM|        908.0|               eposi|\n",
      "|        9|thistle dim navaj...|Manufacturer#4|Brand#43|SMALL BURNISHED S...|    12|  WRAP CASE|        909.0|         ironic foxe|\n",
      "|       10|linen pink saddle...|Manufacturer#5|Brand#54|LARGE BURNISHED S...|    44|     LG CAN|       910.01|ithely final deposit|\n",
      "|       11|spring maroon sea...|Manufacturer#2|Brand#25|STANDARD BURNISHE...|    43|   WRAP BOX|       911.01|               ng gr|\n",
      "|       12|cornflower wheat ...|Manufacturer#3|Brand#33|MEDIUM ANODIZED S...|    25| JUMBO CASE|       912.01|             quickly|\n",
      "|       13|ghost olive orang...|Manufacturer#5|Brand#55|MEDIUM BURNISHED ...|     1| JUMBO PACK|       913.01|              osits.|\n",
      "|       14|khaki seashell ro...|Manufacturer#1|Brand#13|SMALL POLISHED STEEL|    28|  JUMBO BOX|       914.01|             kages c|\n",
      "|       15|blanched honeydew...|Manufacturer#1|Brand#15|LARGE ANODIZED BRASS|    45|    LG CASE|       915.01|            usual ac|\n",
      "|       16|deep sky turquois...|Manufacturer#3|Brand#32|    PROMO PLATED TIN|     2|   MED PACK|       916.01|              unts a|\n",
      "|       17|indian navy coral...|Manufacturer#4|Brand#43|ECONOMY BRUSHED S...|    16|     LG BOX|       917.01|    regular accounts|\n",
      "|       18|turquoise indian ...|Manufacturer#1|Brand#11|SMALL BURNISHED S...|    42| JUMBO PACK|       918.01|    s cajole slyly a|\n",
      "|       19|chocolate navy ta...|Manufacturer#2|Brand#23|SMALL ANODIZED NI...|    33|   WRAP BOX|       919.01|         pending acc|\n",
      "|       20|ivory navy honeyd...|Manufacturer#1|Brand#12|LARGE POLISHED NI...|    48|    MED BAG|       920.02|are across the as...|\n",
      "+---------+--------------------+--------------+--------+--------------------+------+-----------+-------------+--------------------+\n",
      "only showing top 20 rows\n",
      "\n",
      "+----------+----------+-----------+-------------+--------------------+\n",
      "|PS_PARTKEY|PS_SUPPKEY|PS_AVAILQTY|PS_SUPPLYCOST|          PS_COMMENT|\n",
      "+----------+----------+-----------+-------------+--------------------+\n",
      "|         1|         2|       3325|       771.64|, even theodolite...|\n",
      "|         1|        27|       8076|       993.49|ven ideas. quickl...|\n",
      "|         1|        52|       3956|       337.09|after the fluffil...|\n",
      "|         1|        77|       4069|       357.84|al, regular depen...|\n",
      "|         2|         3|       8895|       378.49|nic accounts. fin...|\n",
      "|         2|        28|       4969|       915.27|ptotes. quickly p...|\n",
      "|         2|        53|       8539|       438.37|blithely bold ide...|\n",
      "|         2|        78|       3025|       306.39|olites. deposits ...|\n",
      "|         3|         4|       4651|       920.92|ilent foxes affix...|\n",
      "|         3|        29|       4093|       498.13|ending dependenci...|\n",
      "|         3|        54|       3917|        645.4|of the blithely r...|\n",
      "|         3|        79|       9942|       191.92| unusual, ironic ...|\n",
      "|         4|         5|       1339|       113.97| carefully unusua...|\n",
      "|         4|        30|       6377|       591.18|ly final courts h...|\n",
      "|         4|        55|       2694|        51.37|g, regular deposi...|\n",
      "|         4|        80|       2480|       444.37|requests sleep qu...|\n",
      "|         5|         6|       3735|       255.88|arefully even req...|\n",
      "|         5|        31|       9653|        50.52|y stealthy deposi...|\n",
      "|         5|        56|       1329|       219.83|iously regular de...|\n",
      "|         5|        81|       6925|       537.98|sits. quickly flu...|\n",
      "+----------+----------+-----------+-------------+--------------------+\n",
      "only showing top 20 rows\n",
      "\n",
      "+-----------+-----------+--------------------+\n",
      "|R_REGIONKEY|     R_NAME|           R_COMMENT|\n",
      "+-----------+-----------+--------------------+\n",
      "|          0|     AFRICA|lar deposits. bli...|\n",
      "|          1|    AMERICA|hs use ironic, ev...|\n",
      "|          2|       ASIA|ges. thinly even ...|\n",
      "|          3|     EUROPE|ly final courts c...|\n",
      "|          4|MIDDLE EAST|uickly special ac...|\n",
      "+-----------+-----------+--------------------+\n",
      "\n"
     ]
    },
    {
     "name": "stdout",
     "output_type": "stream",
     "text": [
      "+---------+------------------+--------------------+-----------+---------------+---------+--------------------+\n",
      "|S_SUPPKEY|            S_NAME|           S_ADDRESS|S_NATIONKEY|        S_PHONE|S_ACCTBAL|           S_COMMENT|\n",
      "+---------+------------------+--------------------+-----------+---------------+---------+--------------------+\n",
      "|        1|Supplier#000000001| N kD4on9OM Ipw3,...|         17|27-918-335-1736|  5755.94|each slyly above ...|\n",
      "|        2|Supplier#000000002|89eJ5ksX3ImxJQBvx...|          5|15-679-861-2259|  4032.68| slyly bold instr...|\n",
      "|        3|Supplier#000000003|q1,G3Pj6OjIuUYfUo...|          1|11-383-516-1199|   4192.4|blithely silent r...|\n",
      "|        4|Supplier#000000004|Bk7ah4CK8SYQTepEm...|         15|25-843-787-7479|  4641.08|riously even requ...|\n",
      "|        5|Supplier#000000005|   Gcdm2rJRzl5qlTVzc|         11|21-151-690-3663|  -283.84|. slyly regular p...|\n",
      "|        6|Supplier#000000006|        tQxuVm7s7CnK|         14|24-696-997-4969|  1365.79|final accounts. r...|\n",
      "|        7|Supplier#000000007|s,4TicNGB4uO6PaSq...|         23|33-990-965-2201|  6820.35|s unwind silently...|\n",
      "|        8|Supplier#000000008|9Sq4bBH2FQEmaFOoc...|         17|27-498-742-3860|  7627.85|al pinto beans. a...|\n",
      "|        9|Supplier#000000009|1KhUgZegwM3ua7dsY...|         10|20-403-398-8662|  5302.37|s. unusual, even ...|\n",
      "|       10|Supplier#000000010|  Saygah3gYWMp72i PY|         24|34-852-489-8585|  3891.91|ing waters. regul...|\n",
      "|       11|Supplier#000000011|    JfwTs,LZrV, M,9C|         18|28-613-996-1505|  3393.08|y ironic packages...|\n",
      "|       12|Supplier#000000012|         aLIW  q0HYd|          8|18-179-925-7181|  1432.69|al packages nag a...|\n",
      "|       13|Supplier#000000013|HK71HQyWoqRWOX8GI...|          3|13-727-620-7813|  9107.22|requests engage r...|\n",
      "|       14|Supplier#000000014|     EXsnO5pTNj4iZRm|         15|25-656-247-5058|  9189.82|l accounts boost....|\n",
      "|       15|Supplier#000000015|olXVbNBfVzRqgokr1...|          8|18-453-357-6394|   308.56| across the furio...|\n",
      "|       16|Supplier#000000016|YjP5C55zHDXL7LalK...|         22|32-822-502-4215|  2972.26|ously express ide...|\n",
      "|       17|Supplier#000000017|c2d,ESHRSkK3WYnxp...|         19|29-601-884-9219|  1687.81|eep against the f...|\n",
      "|       18|Supplier#000000018|    PGGVE5PWAMwKDZw |         16|26-729-551-1115|  7040.82|accounts snooze s...|\n",
      "|       19|Supplier#000000019|edZT3es,nBFD8lBXT...|         24|34-278-310-2731|  6150.38|refully final fox...|\n",
      "|       20|Supplier#000000020|iybAE,RmTymrZVYaF...|          3|13-715-945-6730|   530.82|n, ironic ideas w...|\n",
      "+---------+------------------+--------------------+-----------+---------------+---------+--------------------+\n",
      "only showing top 20 rows\n",
      "\n"
     ]
    }
   ],
   "source": [
    "# Reading multiple files\n",
    "\n",
    "import findspark\n",
    "findspark.init()\n",
    "\n",
    "# Initialize Spark Session\n",
    "from pyspark.sql import SparkSession\n",
    "spark = SparkSession.builder.appName(\"ShellIda22Sep2023\").getOrCreate()\n",
    "\n",
    "sc=spark.sparkContext\n",
    "\n",
    "customerDf = spark.read.options(header=True).option(\"inferSchema\", True).option(\"sep\", \"\\t\").csv(\"/home/labuser/Downloads/Retail_Dataset/customer.csv\")\n",
    "lineitemDf = spark.read.options(header=True).option(\"inferSchema\", True).option(\"sep\", \"\\t\").csv(\"/home/labuser/Downloads/Retail_Dataset/lineitem.csv\")\n",
    "nationDf = spark.read.options(header=True).option(\"inferSchema\", True).option(\"sep\", \"\\t\").csv(\"/home/labuser/Downloads/Retail_Dataset/nation.csv\")\n",
    "ordersDf = spark.read.options(header=True).option(\"inferSchema\", True).option(\"sep\", \"\\t\").csv(\"/home/labuser/Downloads/Retail_Dataset/orders.csv\")\n",
    "partDf = spark.read.options(header=True).option(\"inferSchema\", True).option(\"sep\", \"\\t\").csv(\"/home/labuser/Downloads/Retail_Dataset/part.csv\")\n",
    "partsuppDf = spark.read.options(header=True).option(\"inferSchema\", True).option(\"sep\", \"\\t\").csv(\"/home/labuser/Downloads/Retail_Dataset/partsupp.csv\")\n",
    "regionDf = spark.read.options(header=True).option(\"inferSchema\", True).option(\"sep\", \"\\t\").csv(\"/home/labuser/Downloads/Retail_Dataset/region.csv\")\n",
    "supplierDf = spark.read.options(header=True).option(\"inferSchema\", True).option(\"sep\", \"\\t\").csv(\"/home/labuser/Downloads/Retail_Dataset/supplier.csv\")\n",
    "\n",
    "customerDf.show()\n",
    "lineitemDf.show()\n",
    "nationDf.show()\n",
    "ordersDf.show()\n",
    "partDf.show()\n",
    "partsuppDf.show()\n",
    "regionDf.show()\n",
    "supplierDf.show()"
   ]
  },
  {
   "cell_type": "code",
   "execution_count": 15,
   "id": "254910a2",
   "metadata": {},
   "outputs": [],
   "source": [
    "join_testDf = customerDf.join(ordersDf, customerDf.C_CUSTKEY == ordersDf.O_CUSTKEY, how = \"inner\")"
   ]
  },
  {
   "cell_type": "code",
   "execution_count": 16,
   "id": "b090f36e",
   "metadata": {},
   "outputs": [
    {
     "name": "stdout",
     "output_type": "stream",
     "text": [
      "root\n",
      " |-- C_CUSTKEY: integer (nullable = true)\n",
      " |-- C_NAME: string (nullable = true)\n",
      " |-- C_ADDRESS: string (nullable = true)\n",
      " |-- C_NATIONKEY: integer (nullable = true)\n",
      " |-- C_PHONE: string (nullable = true)\n",
      " |-- C_ACCTBAL: double (nullable = true)\n",
      " |-- C_MKTSEGMENT: string (nullable = true)\n",
      " |-- C_COMMENT: string (nullable = true)\n",
      " |-- O_ORDERKEY: integer (nullable = true)\n",
      " |-- O_CUSTKEY: integer (nullable = true)\n",
      " |-- O_ORDERSTATUS: string (nullable = true)\n",
      " |-- O_TOTALPRICE: double (nullable = true)\n",
      " |-- O_ORDERDATE: date (nullable = true)\n",
      " |-- O_ORDERPRIORITY: string (nullable = true)\n",
      " |-- O_CLERK: string (nullable = true)\n",
      " |-- O_SHIPPRIORITY: integer (nullable = true)\n",
      " |-- O_COMMENT: string (nullable = true)\n",
      "\n"
     ]
    }
   ],
   "source": [
    "join_testDf.printSchema()"
   ]
  },
  {
   "cell_type": "code",
   "execution_count": 18,
   "id": "ed7bcb95",
   "metadata": {},
   "outputs": [
    {
     "name": "stdout",
     "output_type": "stream",
     "text": [
      "+---------+------------------+--------------------+-----------+---------------+---------+------------+--------------------+----------+---------+-------------+------------+-----------+---------------+---------------+--------------+--------------------+\n",
      "|C_CUSTKEY|            C_NAME|           C_ADDRESS|C_NATIONKEY|        C_PHONE|C_ACCTBAL|C_MKTSEGMENT|           C_COMMENT|O_ORDERKEY|O_CUSTKEY|O_ORDERSTATUS|O_TOTALPRICE|O_ORDERDATE|O_ORDERPRIORITY|        O_CLERK|O_SHIPPRIORITY|           O_COMMENT|\n",
      "+---------+------------------+--------------------+-----------+---------------+---------+------------+--------------------+----------+---------+-------------+------------+-----------+---------------+---------------+--------------+--------------------+\n",
      "|      370|Customer#000000370|          oyAPndV IN|         12|22-524-280-8721|  8982.79|   FURNITURE|ges. final packag...|         1|      370|            O|   172799.49| 1996-01-02|          5-LOW|Clerk#000000951|             0|nstructions sleep...|\n",
      "|      781|Customer#000000781|FQCAkyfV0 kL3,FNA...|         18|28-478-388-5881|  6403.62|   MACHINERY|ake blithely blit...|         2|      781|            O|    38426.09| 1996-12-01|       1-URGENT|Clerk#000000880|             0| foxes. pending a...|\n",
      "|     1234|Customer#000001234|B3OhbH0MRJE,F0Lc7...|          1|11-742-434-6436|  -982.32|   FURNITURE|y ironic instruct...|         3|     1234|            F|    205654.3| 1993-10-14|          5-LOW|Clerk#000000955|             0|sly final account...|\n",
      "|     1369|Customer#000001369|rXTwOzU0a2ak4Nj5L...|         10|20-232-617-7418|   498.77|  AUTOMOBILE|ong the ironic id...|         4|     1369|            O|    56000.91| 1995-10-11|          5-LOW|Clerk#000000124|             0|sits. slyly regul...|\n",
      "|      445|Customer#000000445|MX1UA0KUJzIGyWM p...|         20|30-849-846-6070|  8018.81|   FURNITURE|e ironic, special...|         5|      445|            F|   105367.67| 1994-07-30|          5-LOW|Clerk#000000925|             0|quickly. bold dep...|\n",
      "|      557|Customer#000000557|          Nt6FUuDR7v|         15|25-390-153-6699|  9559.04|    BUILDING|furiously pending...|         6|      557|            F|     45523.1| 1992-02-21|4-NOT SPECIFIED|Clerk#000000058|             0|ggle. special, fi...|\n",
      "|      392|Customer#000000392|          H7M6JObndO|         17|27-601-793-2507|  8492.33|    BUILDING|efully bold ideas...|         7|      392|            O|   271885.66| 1996-01-10|         2-HIGH|Clerk#000000470|             0|ly special requests |\n",
      "|     1301|Customer#000001301|oR0kHfL6GWhF VPD,...|         10|20-339-347-9046|  8966.63|   MACHINERY|egular asymptotes...|        32|     1301|            O|   198665.57| 1995-07-16|         2-HIGH|Clerk#000000616|             0|ise blithely bold...|\n",
      "|      670|Customer#000000670|         RJtcLv6Tjpx|          2|12-839-426-4266|  6738.93|    BUILDING|y unusual deposit...|        33|      670|            F|   146567.24| 1993-10-27|       3-MEDIUM|Clerk#000000409|             0|uriously. furious...|\n",
      "|      611|Customer#000000611|E1dtWGHE7NrLfnSKLPFU|         19|29-924-242-5243|  4272.43|   HOUSEHOLD|inst the slyly fi...|        34|      611|            O|    73315.48| 1998-07-21|       3-MEDIUM|Clerk#000000223|             0|ly final packages...|\n",
      "|     1276|Customer#000001276|c5UAVe71MPvmerPaf...|         16|26-809-582-2064|   -761.7|  AUTOMOBILE| the blithely reg...|        35|     1276|            O|   194641.93| 1995-10-23|4-NOT SPECIFIED|Clerk#000000259|             0|zzle. carefully e...|\n",
      "|     1153|Customer#000001153|SYG3KMj1fMh7GwvIZ...|          3|13-319-420-5160|  6244.03|   HOUSEHOLD|s. even packages ...|        36|     1153|            O|    42011.04| 1995-11-03|       1-URGENT|Clerk#000000358|             0| quick packages a...|\n",
      "|      862|Customer#000000862|zkaZ,iOp8t9MBK9T,...|          2|12-479-479-6941|  2338.92|   MACHINERY|yly regular foxes...|        37|      862|            F|   131896.49| 1992-06-03|       3-MEDIUM|Clerk#000000456|             0|kly regular pinto...|\n",
      "|     1249|Customer#000001249|x9ukZnNiUM5pBPXyE...|          7|17-866-269-1165|   448.49|    BUILDING| the ironic packa...|        38|     1249|            O|    71553.08| 1996-08-21|4-NOT SPECIFIED|Clerk#000000604|             0|haggle blithely. ...|\n",
      "|      818|Customer#000000818|CvQvKClYoh9lPjMng...|         20|30-943-141-5174|  -574.39|    BUILDING|yly. blithely fin...|        39|      818|            O|   326565.37| 1996-09-20|       3-MEDIUM|Clerk#000000659|             0|ole express, iron...|\n",
      "|      322|Customer#000000322|       bWRyCyjH5OfGX|         20|30-660-202-7517|  4489.98|   HOUSEHOLD|usual sauternes a...|        64|      322|            F|    35831.73| 1994-07-16|       3-MEDIUM|Clerk#000000661|             0|wake fluffily. so...|\n",
      "|      163|Customer#000000163|      OgrGcOnm4whd0f|         21|31-863-349-4121|  2948.61|   FURNITURE| nag furiously fu...|        65|      163|            P|    95469.44| 1995-03-18|       1-URGENT|Clerk#000000632|             0|ular requests are...|\n",
      "|     1292|Customer#000001292|QVr2XTDOMzWcLKHtN...|         21|31-966-407-1575|  5509.11|    BUILDING|haggle. special f...|        66|     1292|            F|   104190.66| 1994-01-20|          5-LOW|Clerk#000000743|             0|y pending request...|\n",
      "|      568|Customer#000000568|ZddVCnzeABTTBgV3G...|         13|23-603-795-8611|  1317.56|    BUILDING|gular decoys hagg...|        67|      568|            O|   182481.16| 1996-12-19|4-NOT SPECIFIED|Clerk#000000547|             0|symptotes haggle ...|\n",
      "|      286|Customer#000000286|    7 7uVDrpkWuozyEd|         22|32-274-308-4633|  -109.73|   HOUSEHOLD|ly special accoun...|        68|      286|            O|   301968.79| 1998-04-18|       3-MEDIUM|Clerk#000000440|             0| pinto beans slee...|\n",
      "+---------+------------------+--------------------+-----------+---------------+---------+------------+--------------------+----------+---------+-------------+------------+-----------+---------------+---------------+--------------+--------------------+\n",
      "only showing top 20 rows\n",
      "\n"
     ]
    }
   ],
   "source": [
    "join_testDf.show()"
   ]
  },
  {
   "cell_type": "code",
   "execution_count": 26,
   "id": "d8e3609a",
   "metadata": {},
   "outputs": [
    {
     "name": "stdout",
     "output_type": "stream",
     "text": [
      "+---------------+------------------+\n",
      "|        O_CLERK| sum(O_TOTALPRICE)|\n",
      "+---------------+------------------+\n",
      "|Clerk#000000024|        2078084.41|\n",
      "|Clerk#000000288|        1431028.03|\n",
      "|Clerk#000000236|        2571896.97|\n",
      "|Clerk#000000093|3388791.1500000004|\n",
      "|Clerk#000000124|        1683034.58|\n",
      "|Clerk#000000011|2032237.1699999995|\n",
      "|Clerk#000000114|1596777.3599999999|\n",
      "|Clerk#000000022|         1250757.7|\n",
      "|Clerk#000000474|1669808.3399999999|\n",
      "|Clerk#000000723| 923212.7899999999|\n",
      "|Clerk#000000903|2984974.0700000008|\n",
      "|Clerk#000000398|        1799587.31|\n",
      "|Clerk#000000744|         2078169.2|\n",
      "|Clerk#000000912|1728371.5500000005|\n",
      "|Clerk#000000644|         2357482.5|\n",
      "|Clerk#000000766|        1941942.28|\n",
      "|Clerk#000000674|         941649.11|\n",
      "|Clerk#000000821|2854880.0399999996|\n",
      "|Clerk#000000424|1509396.7800000003|\n",
      "|Clerk#000000087|        1396516.85|\n",
      "+---------------+------------------+\n",
      "only showing top 20 rows\n",
      "\n"
     ]
    }
   ],
   "source": [
    "group_testDf = ordersDf.groupBy(\"O_CLERK\").sum(\"O_TOTALPRICE\")\n",
    "group_testDf.show()"
   ]
  },
  {
   "cell_type": "code",
   "execution_count": 27,
   "id": "698174e5",
   "metadata": {},
   "outputs": [
    {
     "name": "stderr",
     "output_type": "stream",
     "text": [
      "23/09/22 09:31:24 WARN package: Truncated the string representation of a plan since it was too large. This behavior can be adjusted by setting 'spark.sql.debug.maxToStringFields'.\n",
      "                                                                                \r"
     ]
    },
    {
     "name": "stdout",
     "output_type": "stream",
     "text": [
      "+---------+------------------+--------------------+-----------+---------------+---------+------------+--------------------+----------+---------+-------------+------------+-----------+---------------+---------------+--------------+--------------------+----------+---------+---------+------------+----------+---------------+----------+-----+------------+------------+----------+------------+-------------+-----------------+----------+--------------------+\n",
      "|C_CUSTKEY|            C_NAME|           C_ADDRESS|C_NATIONKEY|        C_PHONE|C_ACCTBAL|C_MKTSEGMENT|           C_COMMENT|O_ORDERKEY|O_CUSTKEY|O_ORDERSTATUS|O_TOTALPRICE|O_ORDERDATE|O_ORDERPRIORITY|        O_CLERK|O_SHIPPRIORITY|           O_COMMENT|L_ORDERKEY|L_PARTKEY|L_SUPPKEY|L_LINENUMBER|L_QUANTITY|L_EXTENDEDPRICE|L_DISCOUNT|L_TAX|L_RETURNFLAG|L_LINESTATUS|L_SHIPDATE|L_COMMITDATE|L_RECEIPTDATE|   L_SHIPINSTRUCT|L_SHIPMODE|           L_COMMENT|\n",
      "+---------+------------------+--------------------+-----------+---------------+---------+------------+--------------------+----------+---------+-------------+------------+-----------+---------------+---------------+--------------+--------------------+----------+---------+---------+------------+----------+---------------+----------+-----+------------+------------+----------+------------+-------------+-----------------+----------+--------------------+\n",
      "|      370|Customer#000000370|          oyAPndV IN|         12|22-524-280-8721|  8982.79|   FURNITURE|ges. final packag...|         1|      370|            O|   172799.49| 1996-01-02|          5-LOW|Clerk#000000951|             0|nstructions sleep...|         1|      157|       10|           6|      32.0|        33828.8|      0.07| 0.02|           N|           O|1996-01-30|  1996-02-07|   1996-02-03|DELIVER IN PERSON|      MAIL|   arefully slyly ex|\n",
      "|      370|Customer#000000370|          oyAPndV IN|         12|22-524-280-8721|  8982.79|   FURNITURE|ges. final packag...|         1|      370|            O|   172799.49| 1996-01-02|          5-LOW|Clerk#000000951|             0|nstructions sleep...|         1|      241|       23|           5|      24.0|       27389.76|       0.1| 0.04|           N|           O|1996-03-30|  1996-03-14|   1996-04-01|             NONE|       FOB| pending foxes. s...|\n",
      "|      370|Customer#000000370|          oyAPndV IN|         12|22-524-280-8721|  8982.79|   FURNITURE|ges. final packag...|         1|      370|            O|   172799.49| 1996-01-02|          5-LOW|Clerk#000000951|             0|nstructions sleep...|         1|       22|       48|           4|      28.0|       25816.56|      0.09| 0.06|           N|           O|1996-04-21|  1996-03-30|   1996-05-16|             NONE|       AIR|lites. fluffily e...|\n",
      "|      370|Customer#000000370|          oyAPndV IN|         12|22-524-280-8721|  8982.79|   FURNITURE|ges. final packag...|         1|      370|            O|   172799.49| 1996-01-02|          5-LOW|Clerk#000000951|             0|nstructions sleep...|         1|      637|       38|           3|       8.0|       12301.04|       0.1| 0.02|           N|           O|1996-01-29|  1996-03-05|   1996-01-31| TAKE BACK RETURN|   REG AIR|riously. regular,...|\n",
      "|      370|Customer#000000370|          oyAPndV IN|         12|22-524-280-8721|  8982.79|   FURNITURE|ges. final packag...|         1|      370|            O|   172799.49| 1996-01-02|          5-LOW|Clerk#000000951|             0|nstructions sleep...|         1|      674|       75|           2|      36.0|       56688.12|      0.09| 0.06|           N|           O|1996-04-12|  1996-02-28|   1996-04-20| TAKE BACK RETURN|      MAIL|ly final dependen...|\n",
      "|      370|Customer#000000370|          oyAPndV IN|         12|22-524-280-8721|  8982.79|   FURNITURE|ges. final packag...|         1|      370|            O|   172799.49| 1996-01-02|          5-LOW|Clerk#000000951|             0|nstructions sleep...|         1|     1552|       93|           1|      17.0|       24710.35|      0.04| 0.02|           N|           O|1996-03-13|  1996-02-12|   1996-03-22|DELIVER IN PERSON|     TRUCK|egular courts abo...|\n",
      "|      781|Customer#000000781|FQCAkyfV0 kL3,FNA...|         18|28-478-388-5881|  6403.62|   MACHINERY|ake blithely blit...|         2|      781|            O|    38426.09| 1996-12-01|       1-URGENT|Clerk#000000880|             0| foxes. pending a...|         2|     1062|       33|           1|      38.0|       36596.28|       0.0| 0.05|           N|           O|1997-01-28|  1997-01-14|   1997-02-02| TAKE BACK RETURN|      RAIL|ven requests. dep...|\n",
      "|     1234|Customer#000001234|B3OhbH0MRJE,F0Lc7...|          1|11-742-434-6436|  -982.32|   FURNITURE|y ironic instruct...|         3|     1234|            F|    205654.3| 1993-10-14|          5-LOW|Clerk#000000955|             0|sly final account...|         3|      622|       16|           6|      26.0|       39588.12|       0.1| 0.02|           A|           F|1993-10-29|  1993-12-18|   1993-11-04| TAKE BACK RETURN|      RAIL|ges sleep after t...|\n",
      "|     1234|Customer#000001234|B3OhbH0MRJE,F0Lc7...|          1|11-742-434-6436|  -982.32|   FURNITURE|y ironic instruct...|         3|     1234|            F|    205654.3| 1993-10-14|          5-LOW|Clerk#000000955|             0|sly final account...|         3|     1831|       61|           5|      28.0|       48519.24|      0.04|  0.0|           R|           F|1993-12-14|  1994-01-10|   1994-01-01| TAKE BACK RETURN|       FOB|ages nag slyly pe...|\n",
      "|     1234|Customer#000001234|B3OhbH0MRJE,F0Lc7...|          1|11-742-434-6436|  -982.32|   FURNITURE|y ironic instruct...|         3|     1234|            F|    205654.3| 1993-10-14|          5-LOW|Clerk#000000955|             0|sly final account...|         3|      294|       22|           4|       2.0|        2388.58|      0.01| 0.06|           A|           F|1993-12-04|  1994-01-07|   1994-01-01|             NONE|     TRUCK|y. fluffily pendi...|\n",
      "|     1234|Customer#000001234|B3OhbH0MRJE,F0Lc7...|          1|11-742-434-6436|  -982.32|   FURNITURE|y ironic instruct...|         3|     1234|            F|    205654.3| 1993-10-14|          5-LOW|Clerk#000000955|             0|sly final account...|         3|     1285|       60|           3|      27.0|       32029.56|      0.06| 0.07|           A|           F|1994-01-16|  1993-11-22|   1994-01-23|DELIVER IN PERSON|      SHIP|    nal foxes wake. |\n",
      "|     1234|Customer#000001234|B3OhbH0MRJE,F0Lc7...|          1|11-742-434-6436|  -982.32|   FURNITURE|y ironic instruct...|         3|     1234|            F|    205654.3| 1993-10-14|          5-LOW|Clerk#000000955|             0|sly final account...|         3|      191|       70|           2|      49.0|       53468.31|       0.1|  0.0|           R|           F|1993-11-09|  1993-12-20|   1993-11-24| TAKE BACK RETURN|      RAIL| unusual accounts...|\n",
      "|     1234|Customer#000001234|B3OhbH0MRJE,F0Lc7...|          1|11-742-434-6436|  -982.32|   FURNITURE|y ironic instruct...|         3|     1234|            F|    205654.3| 1993-10-14|          5-LOW|Clerk#000000955|             0|sly final account...|         3|       43|       19|           1|      45.0|        42436.8|      0.06|  0.0|           R|           F|1994-02-02|  1994-01-04|   1994-02-23|             NONE|       AIR|ongside of the fu...|\n",
      "|     1369|Customer#000001369|rXTwOzU0a2ak4Nj5L...|         10|20-232-617-7418|   498.77|  AUTOMOBILE|ong the ironic id...|         4|     1369|            O|    56000.91| 1995-10-11|          5-LOW|Clerk#000000124|             0|sits. slyly regul...|         4|      881|       81|           1|      30.0|        53456.4|      0.03| 0.08|           N|           O|1996-01-10|  1995-12-14|   1996-01-18|DELIVER IN PERSON|   REG AIR|- quickly regular...|\n",
      "|      445|Customer#000000445|MX1UA0KUJzIGyWM p...|         20|30-849-846-6070|  8018.81|   FURNITURE|e ironic, special...|         5|      445|            F|   105367.67| 1994-07-30|          5-LOW|Clerk#000000925|             0|quickly. bold dep...|         5|      376|        5|           3|      50.0|        63818.5|      0.08| 0.03|           A|           F|1994-08-08|  1994-10-13|   1994-08-26|DELIVER IN PERSON|       AIR|eodolites. fluffi...|\n",
      "|      445|Customer#000000445|MX1UA0KUJzIGyWM p...|         20|30-849-846-6070|  8018.81|   FURNITURE|e ironic, special...|         5|      445|            F|   105367.67| 1994-07-30|          5-LOW|Clerk#000000925|             0|quickly. bold dep...|         5|     1240|       41|           2|      26.0|       29672.24|      0.07| 0.08|           R|           F|1994-10-16|  1994-09-25|   1994-10-19|             NONE|       FOB|sts use slyly qui...|\n",
      "|      445|Customer#000000445|MX1UA0KUJzIGyWM p...|         20|30-849-846-6070|  8018.81|   FURNITURE|e ironic, special...|         5|      445|            F|   105367.67| 1994-07-30|          5-LOW|Clerk#000000925|             0|quickly. bold dep...|         5|     1086|       87|           1|      15.0|        14806.2|      0.02| 0.04|           R|           F|1994-10-31|  1994-08-31|   1994-11-20|             NONE|       AIR|  ts wake furiously |\n",
      "|      557|Customer#000000557|          Nt6FUuDR7v|         15|25-390-153-6699|  9559.04|    BUILDING|furiously pending...|         6|      557|            F|     45523.1| 1992-02-21|4-NOT SPECIFIED|Clerk#000000058|             0|ggle. special, fi...|         6|     1397|       36|           1|      37.0|       48040.43|      0.08| 0.03|           A|           F|1992-04-27|  1992-05-15|   1992-05-02| TAKE BACK RETURN|     TRUCK|p furiously speci...|\n",
      "|      392|Customer#000000392|          H7M6JObndO|         17|27-601-793-2507|  8492.33|    BUILDING|efully bold ideas...|         7|      392|            O|   271885.66| 1996-01-10|         2-HIGH|Clerk#000000470|             0|ly special requests |         7|     1573|       54|           7|       5.0|        7372.85|      0.04| 0.02|           N|           O|1996-02-10|  1996-03-26|   1996-02-13|             NONE|       FOB|       ithely regula|\n",
      "|      392|Customer#000000392|          H7M6JObndO|         17|27-601-793-2507|  8492.33|    BUILDING|efully bold ideas...|         7|      392|            O|   271885.66| 1996-01-10|         2-HIGH|Clerk#000000470|             0|ly special requests |         7|      793|       26|           6|      35.0|       59282.65|      0.06| 0.03|           N|           O|1996-01-16|  1996-02-23|   1996-01-22| TAKE BACK RETURN|       FOB|jole. excuses wak...|\n",
      "+---------+------------------+--------------------+-----------+---------------+---------+------------+--------------------+----------+---------+-------------+------------+-----------+---------------+---------------+--------------+--------------------+----------+---------+---------+------------+----------+---------------+----------+-----+------------+------------+----------+------------+-------------+-----------------+----------+--------------------+\n",
      "only showing top 20 rows\n",
      "\n"
     ]
    }
   ],
   "source": [
    "join_testDf02 = customerDf.join(ordersDf, customerDf.C_CUSTKEY == ordersDf.O_CUSTKEY, how = \"inner\").join(lineitemDf, lineitemDf.L_ORDERKEY == ordersDf.O_ORDERKEY)\n",
    "join_testDf02.show()"
   ]
  },
  {
   "cell_type": "code",
   "execution_count": 33,
   "id": "6dc1b457",
   "metadata": {
    "scrolled": true
   },
   "outputs": [
    {
     "name": "stdout",
     "output_type": "stream",
     "text": [
      "+---------+------------------+--------------------+-----------+---------------+---------+------------+--------------------+------------+------------+----------+-------------+\n",
      "|C_CUSTKEY|            C_NAME|           C_ADDRESS|C_NATIONKEY|        C_PHONE|C_ACCTBAL|C_MKTSEGMENT|           C_COMMENT|O_TOTALPRICE|Order_Status|L_QUANTITY|L_RECEIPTDATE|\n",
      "+---------+------------------+--------------------+-----------+---------------+---------+------------+--------------------+------------+------------+----------+-------------+\n",
      "|      370|Customer#000000370|          oyAPndV IN|         12|22-524-280-8721|  8982.79|   FURNITURE|ges. final packag...|   172799.49|           O|      32.0|   1996-02-03|\n",
      "|      370|Customer#000000370|          oyAPndV IN|         12|22-524-280-8721|  8982.79|   FURNITURE|ges. final packag...|   172799.49|           O|      24.0|   1996-04-01|\n",
      "|      370|Customer#000000370|          oyAPndV IN|         12|22-524-280-8721|  8982.79|   FURNITURE|ges. final packag...|   172799.49|           O|      28.0|   1996-05-16|\n",
      "|      370|Customer#000000370|          oyAPndV IN|         12|22-524-280-8721|  8982.79|   FURNITURE|ges. final packag...|   172799.49|           O|       8.0|   1996-01-31|\n",
      "|      370|Customer#000000370|          oyAPndV IN|         12|22-524-280-8721|  8982.79|   FURNITURE|ges. final packag...|   172799.49|           O|      36.0|   1996-04-20|\n",
      "|      370|Customer#000000370|          oyAPndV IN|         12|22-524-280-8721|  8982.79|   FURNITURE|ges. final packag...|   172799.49|           O|      17.0|   1996-03-22|\n",
      "|      781|Customer#000000781|FQCAkyfV0 kL3,FNA...|         18|28-478-388-5881|  6403.62|   MACHINERY|ake blithely blit...|    38426.09|           O|      38.0|   1997-02-02|\n",
      "|     1234|Customer#000001234|B3OhbH0MRJE,F0Lc7...|          1|11-742-434-6436|  -982.32|   FURNITURE|y ironic instruct...|    205654.3|           F|      26.0|   1993-11-04|\n",
      "|     1234|Customer#000001234|B3OhbH0MRJE,F0Lc7...|          1|11-742-434-6436|  -982.32|   FURNITURE|y ironic instruct...|    205654.3|           F|      28.0|   1994-01-01|\n",
      "|     1234|Customer#000001234|B3OhbH0MRJE,F0Lc7...|          1|11-742-434-6436|  -982.32|   FURNITURE|y ironic instruct...|    205654.3|           F|       2.0|   1994-01-01|\n",
      "|     1234|Customer#000001234|B3OhbH0MRJE,F0Lc7...|          1|11-742-434-6436|  -982.32|   FURNITURE|y ironic instruct...|    205654.3|           F|      27.0|   1994-01-23|\n",
      "|     1234|Customer#000001234|B3OhbH0MRJE,F0Lc7...|          1|11-742-434-6436|  -982.32|   FURNITURE|y ironic instruct...|    205654.3|           F|      49.0|   1993-11-24|\n",
      "|     1234|Customer#000001234|B3OhbH0MRJE,F0Lc7...|          1|11-742-434-6436|  -982.32|   FURNITURE|y ironic instruct...|    205654.3|           F|      45.0|   1994-02-23|\n",
      "|     1369|Customer#000001369|rXTwOzU0a2ak4Nj5L...|         10|20-232-617-7418|   498.77|  AUTOMOBILE|ong the ironic id...|    56000.91|           O|      30.0|   1996-01-18|\n",
      "|      445|Customer#000000445|MX1UA0KUJzIGyWM p...|         20|30-849-846-6070|  8018.81|   FURNITURE|e ironic, special...|   105367.67|           F|      50.0|   1994-08-26|\n",
      "|      445|Customer#000000445|MX1UA0KUJzIGyWM p...|         20|30-849-846-6070|  8018.81|   FURNITURE|e ironic, special...|   105367.67|           F|      26.0|   1994-10-19|\n",
      "|      445|Customer#000000445|MX1UA0KUJzIGyWM p...|         20|30-849-846-6070|  8018.81|   FURNITURE|e ironic, special...|   105367.67|           F|      15.0|   1994-11-20|\n",
      "|      557|Customer#000000557|          Nt6FUuDR7v|         15|25-390-153-6699|  9559.04|    BUILDING|furiously pending...|     45523.1|           F|      37.0|   1992-05-02|\n",
      "|      392|Customer#000000392|          H7M6JObndO|         17|27-601-793-2507|  8492.33|    BUILDING|efully bold ideas...|   271885.66|           O|       5.0|   1996-02-13|\n",
      "|      392|Customer#000000392|          H7M6JObndO|         17|27-601-793-2507|  8492.33|    BUILDING|efully bold ideas...|   271885.66|           O|      35.0|   1996-01-22|\n",
      "+---------+------------------+--------------------+-----------+---------------+---------+------------+--------------------+------------+------------+----------+-------------+\n",
      "only showing top 20 rows\n",
      "\n"
     ]
    }
   ],
   "source": [
    "join_testDf03 = customerDf.join(ordersDf, customerDf.C_CUSTKEY == ordersDf.O_CUSTKEY, how = \"inner\").join(lineitemDf, lineitemDf.L_ORDERKEY == ordersDf.O_ORDERKEY).select(customerDf[\"*\"], \"O_TOTALPRICE\", ordersDf[\"O_ORDERSTATUS\"].alias(\"Order_Status\"), \"L_QUANTITY\", \"L_RECEIPTDATE\")\n",
    "join_testDf03.show()"
   ]
  },
  {
   "cell_type": "code",
   "execution_count": 34,
   "id": "07d641ea",
   "metadata": {},
   "outputs": [
    {
     "data": {
      "text/plain": [
       "1"
      ]
     },
     "execution_count": 34,
     "metadata": {},
     "output_type": "execute_result"
    }
   ],
   "source": [
    "join_testDf03.rdd.getNumPartitions()"
   ]
  },
  {
   "cell_type": "code",
   "execution_count": 35,
   "id": "65f262ce",
   "metadata": {},
   "outputs": [],
   "source": [
    "test = join_testDf03.repartition(8)"
   ]
  },
  {
   "cell_type": "code",
   "execution_count": 36,
   "id": "9e53dc96",
   "metadata": {},
   "outputs": [
    {
     "name": "stderr",
     "output_type": "stream",
     "text": [
      "                                                                                \r"
     ]
    }
   ],
   "source": [
    "join_testDf03.write.mode(\"append\").parquet(\"/home/labuser/Desktop/output01/\")\n",
    "# only one partition file created"
   ]
  },
  {
   "cell_type": "code",
   "execution_count": 37,
   "id": "06b7911c",
   "metadata": {},
   "outputs": [
    {
     "name": "stderr",
     "output_type": "stream",
     "text": [
      "                                                                                \r"
     ]
    }
   ],
   "source": [
    "test.write.mode(\"append\").parquet(\"/home/labuser/Desktop/output02/\")\n",
    "# 8 partition files created"
   ]
  },
  {
   "cell_type": "code",
   "execution_count": 38,
   "id": "eba306f1",
   "metadata": {},
   "outputs": [],
   "source": [
    "test.coalesce(1).write.mode(\"append\").parquet(\"/home/labuser/Desktop/output03/\")\n",
    "# using coalesce, only 1 partition file created"
   ]
  },
  {
   "cell_type": "code",
   "execution_count": null,
   "id": "92f8b635",
   "metadata": {},
   "outputs": [],
   "source": []
  }
 ],
 "metadata": {
  "kernelspec": {
   "display_name": "Python 3 (ipykernel)",
   "language": "python",
   "name": "python3"
  },
  "language_info": {
   "codemirror_mode": {
    "name": "ipython",
    "version": 3
   },
   "file_extension": ".py",
   "mimetype": "text/x-python",
   "name": "python",
   "nbconvert_exporter": "python",
   "pygments_lexer": "ipython3",
   "version": "3.11.4"
  }
 },
 "nbformat": 4,
 "nbformat_minor": 5
}
