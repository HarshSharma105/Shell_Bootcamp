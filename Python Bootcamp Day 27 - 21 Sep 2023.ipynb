{
 "cells": [
  {
   "cell_type": "code",
   "execution_count": 1,
   "id": "5cff2371",
   "metadata": {},
   "outputs": [],
   "source": [
    "import findspark\n",
    "findspark.init()"
   ]
  },
  {
   "cell_type": "code",
   "execution_count": 2,
   "id": "b5a7025d",
   "metadata": {},
   "outputs": [],
   "source": [
    "from pyspark.sql import SparkSession"
   ]
  },
  {
   "cell_type": "code",
   "execution_count": 3,
   "id": "6d69f616",
   "metadata": {},
   "outputs": [
    {
     "name": "stderr",
     "output_type": "stream",
     "text": [
      "Setting default log level to \"WARN\".\n",
      "To adjust logging level use sc.setLogLevel(newLevel). For SparkR, use setLogLevel(newLevel).\n",
      "23/09/21 09:07:25 WARN NativeCodeLoader: Unable to load native-hadoop library for your platform... using builtin-java classes where applicable\n"
     ]
    }
   ],
   "source": [
    "# Initialize Spark Session\n",
    "\n",
    "spark = SparkSession.builder.appName(\"WordCount\").getOrCreate()"
   ]
  },
  {
   "cell_type": "code",
   "execution_count": 4,
   "id": "608d4961",
   "metadata": {},
   "outputs": [],
   "source": [
    "sc=spark.sparkContext"
   ]
  },
  {
   "cell_type": "code",
   "execution_count": 5,
   "id": "12be0c6d",
   "metadata": {},
   "outputs": [],
   "source": [
    "rdd = sc.parallelize([1,2,3,4])"
   ]
  },
  {
   "cell_type": "code",
   "execution_count": 6,
   "id": "18b9ab7f",
   "metadata": {},
   "outputs": [
    {
     "name": "stderr",
     "output_type": "stream",
     "text": [
      "                                                                                \r"
     ]
    },
    {
     "data": {
      "text/plain": [
       "[1, 2, 3, 4]"
      ]
     },
     "execution_count": 6,
     "metadata": {},
     "output_type": "execute_result"
    }
   ],
   "source": [
    "rdd.collect()"
   ]
  },
  {
   "cell_type": "code",
   "execution_count": 7,
   "id": "a7abed71",
   "metadata": {},
   "outputs": [],
   "source": [
    "resultRdd = rdd.map(lambda x: x*2)"
   ]
  },
  {
   "cell_type": "code",
   "execution_count": 8,
   "id": "14f16804",
   "metadata": {},
   "outputs": [
    {
     "name": "stderr",
     "output_type": "stream",
     "text": [
      "                                                                                \r"
     ]
    },
    {
     "data": {
      "text/plain": [
       "[2, 4, 6, 8]"
      ]
     },
     "execution_count": 8,
     "metadata": {},
     "output_type": "execute_result"
    }
   ],
   "source": [
    "resultRdd.collect()"
   ]
  },
  {
   "cell_type": "code",
   "execution_count": 9,
   "id": "889724fe",
   "metadata": {},
   "outputs": [],
   "source": [
    "rdd1 = sc.parallelize([1,2,3,4,5])"
   ]
  },
  {
   "cell_type": "code",
   "execution_count": 10,
   "id": "57e14178",
   "metadata": {},
   "outputs": [
    {
     "data": {
      "text/plain": [
       "[1, 2, 3, 4, 5]"
      ]
     },
     "execution_count": 10,
     "metadata": {},
     "output_type": "execute_result"
    }
   ],
   "source": [
    "rdd1.collect()"
   ]
  },
  {
   "cell_type": "code",
   "execution_count": 11,
   "id": "71317cbe",
   "metadata": {},
   "outputs": [
    {
     "data": {
      "text/plain": [
       "[1, 2, 2, 4, 3, 6, 4, 8, 5, 10]"
      ]
     },
     "execution_count": 11,
     "metadata": {},
     "output_type": "execute_result"
    }
   ],
   "source": [
    "resultrdd1 = rdd1.flatMap(lambda x : (x, x*2))\n",
    "resultrdd1.collect()"
   ]
  },
  {
   "cell_type": "code",
   "execution_count": 12,
   "id": "06cd1364",
   "metadata": {},
   "outputs": [
    {
     "data": {
      "text/plain": [
       "[2, 4, 6]"
      ]
     },
     "execution_count": 12,
     "metadata": {},
     "output_type": "execute_result"
    }
   ],
   "source": [
    "rdd3 = sc.parallelize([1,2,3,4,5,6,7])\n",
    "resultrdd3 = rdd3.filter(lambda x : x % 2 ==0)\n",
    "resultrdd3.collect()"
   ]
  },
  {
   "cell_type": "code",
   "execution_count": 13,
   "id": "af8053e7",
   "metadata": {},
   "outputs": [
    {
     "name": "stderr",
     "output_type": "stream",
     "text": [
      "                                                                                \r"
     ]
    },
    {
     "data": {
      "text/plain": [
       "[(2, 8), (1, 8), (3, 7)]"
      ]
     },
     "execution_count": 13,
     "metadata": {},
     "output_type": "execute_result"
    }
   ],
   "source": [
    "rdd4 = sc.parallelize([(1,2), (2,1), (1,6), (2,7), (3,7)])\n",
    "resultRdd4 = rdd4.reduceByKey(lambda x,y : x+y)\n",
    "resultRdd4.collect()"
   ]
  },
  {
   "cell_type": "code",
   "execution_count": 14,
   "id": "94953584",
   "metadata": {},
   "outputs": [
    {
     "data": {
      "text/plain": [
       "[(2, <pyspark.resultiterable.ResultIterable at 0x7f9d0c67dbd0>),\n",
       " (1, <pyspark.resultiterable.ResultIterable at 0x7f9d0c67dd90>),\n",
       " (3, <pyspark.resultiterable.ResultIterable at 0x7f9d0c5c6190>)]"
      ]
     },
     "execution_count": 14,
     "metadata": {},
     "output_type": "execute_result"
    }
   ],
   "source": [
    "rdd5 = sc.parallelize([(1,2), (2,1), (1,6), (2,7), (3,7)])\n",
    "resultRdd5 = rdd5.groupByKey()\n",
    "resultRdd5.collect()"
   ]
  },
  {
   "cell_type": "code",
   "execution_count": 15,
   "id": "f8051e4e",
   "metadata": {},
   "outputs": [
    {
     "name": "stdout",
     "output_type": "stream",
     "text": [
      "Key : 2, Values : [1, 7]\n",
      "Key : 1, Values : [2, 6]\n",
      "Key : 3, Values : [7]\n"
     ]
    }
   ],
   "source": [
    "for key, value in resultRdd5.collect():\n",
    "    print(f\"Key : {key}, Values : {list(value)}\")"
   ]
  },
  {
   "cell_type": "code",
   "execution_count": 16,
   "id": "8f7ac5f6",
   "metadata": {},
   "outputs": [
    {
     "name": "stdout",
     "output_type": "stream",
     "text": [
      "['this', 'is', 'a', 'sample', 'text', 'document', 'for', 'word', 'count', 'examples']\n"
     ]
    }
   ],
   "source": [
    "word_list = list(\"this is a sample text document for word count examples\".split(\" \"))\n",
    "print(word_list)"
   ]
  },
  {
   "cell_type": "code",
   "execution_count": 17,
   "id": "6508e707",
   "metadata": {},
   "outputs": [
    {
     "data": {
      "text/plain": [
       "['this',\n",
       " 'is',\n",
       " 'a',\n",
       " 'sample',\n",
       " 'text',\n",
       " 'document',\n",
       " 'for',\n",
       " 'word',\n",
       " 'count',\n",
       " 'examples']"
      ]
     },
     "execution_count": 17,
     "metadata": {},
     "output_type": "execute_result"
    }
   ],
   "source": [
    "rdd6 = sc.parallelize(word_list)\n",
    "rdd6.collect()"
   ]
  },
  {
   "cell_type": "code",
   "execution_count": 18,
   "id": "991e3b76",
   "metadata": {},
   "outputs": [
    {
     "data": {
      "text/plain": [
       "['this',\n",
       " 'is',\n",
       " 'a',\n",
       " 'sample',\n",
       " 'text',\n",
       " 'document',\n",
       " 'for',\n",
       " 'word',\n",
       " 'count',\n",
       " 'examples']"
      ]
     },
     "execution_count": 18,
     "metadata": {},
     "output_type": "execute_result"
    }
   ],
   "source": [
    "word_count = rdd6.flatMap(lambda x: x.split(\",\"))\n",
    "word_count.collect()"
   ]
  },
  {
   "cell_type": "code",
   "execution_count": 19,
   "id": "5700ea80",
   "metadata": {},
   "outputs": [],
   "source": [
    "word_counts = word_count.map(lambda word : (word, 1)).reduceByKey(lambda x,y: x+y)"
   ]
  },
  {
   "cell_type": "code",
   "execution_count": 20,
   "id": "4cc548f1",
   "metadata": {},
   "outputs": [
    {
     "name": "stdout",
     "output_type": "stream",
     "text": [
      "this : 1\n",
      "sample : 1\n",
      "text : 1\n",
      "for : 1\n",
      "word : 1\n",
      "examples : 1\n",
      "is : 1\n",
      "a : 1\n",
      "document : 1\n",
      "count : 1\n"
     ]
    }
   ],
   "source": [
    "for word, count in word_counts.collect():\n",
    "    print(f\"{word} : {count}\")"
   ]
  },
  {
   "cell_type": "code",
   "execution_count": 21,
   "id": "0abc73da",
   "metadata": {},
   "outputs": [
    {
     "data": {
      "text/plain": [
       "pyspark.rdd.RDD"
      ]
     },
     "execution_count": 21,
     "metadata": {},
     "output_type": "execute_result"
    }
   ],
   "source": [
    "purchaseRdd = sc.textFile(\"/home/labuser/Downloads/purchases.csv\")\n",
    "type(purchaseRdd)"
   ]
  },
  {
   "cell_type": "code",
   "execution_count": 22,
   "id": "ca34ddc2",
   "metadata": {},
   "outputs": [
    {
     "data": {
      "text/plain": [
       "[',apples,oranges', 'June,3,0', 'Robert,2,3', 'Lily,0,7', 'David,1,2']"
      ]
     },
     "execution_count": 22,
     "metadata": {},
     "output_type": "execute_result"
    }
   ],
   "source": [
    "purchaseRdd.collect()"
   ]
  },
  {
   "cell_type": "code",
   "execution_count": 23,
   "id": "b1ee6bdb",
   "metadata": {},
   "outputs": [],
   "source": [
    "purchaseDf = spark.read.csv(\"/home/labuser/Downloads/purchases.csv\")"
   ]
  },
  {
   "cell_type": "code",
   "execution_count": 24,
   "id": "b0c5f86a",
   "metadata": {},
   "outputs": [
    {
     "name": "stdout",
     "output_type": "stream",
     "text": [
      "+------+------+-------+\n",
      "|   _c0|   _c1|    _c2|\n",
      "+------+------+-------+\n",
      "|  null|apples|oranges|\n",
      "|  June|     3|      0|\n",
      "|Robert|     2|      3|\n",
      "|  Lily|     0|      7|\n",
      "| David|     1|      2|\n",
      "+------+------+-------+\n",
      "\n"
     ]
    }
   ],
   "source": [
    "purchaseDf.show()"
   ]
  },
  {
   "cell_type": "code",
   "execution_count": 25,
   "id": "007b751e",
   "metadata": {},
   "outputs": [],
   "source": [
    "purchaseDf_01 = spark.read.option(\"inferSchema\", True).option(\"header\", True).csv(\"/home/labuser/Downloads/purchases.csv\")"
   ]
  },
  {
   "cell_type": "code",
   "execution_count": 26,
   "id": "ef27079d",
   "metadata": {},
   "outputs": [
    {
     "name": "stdout",
     "output_type": "stream",
     "text": [
      "root\n",
      " |-- _c0: string (nullable = true)\n",
      " |-- apples: integer (nullable = true)\n",
      " |-- oranges: integer (nullable = true)\n",
      "\n"
     ]
    }
   ],
   "source": [
    "purchaseDf_01.printSchema()"
   ]
  },
  {
   "cell_type": "code",
   "execution_count": 27,
   "id": "45a12ebf",
   "metadata": {},
   "outputs": [],
   "source": [
    "imdbDf = spark.read.option(\"inferSchema\", True).option(\"header\", True).csv(\"/home/labuser/Downloads/IMDB-Movie-Data.csv\")"
   ]
  },
  {
   "cell_type": "code",
   "execution_count": 28,
   "id": "5ab63e04",
   "metadata": {},
   "outputs": [
    {
     "name": "stdout",
     "output_type": "stream",
     "text": [
      "root\n",
      " |-- Rank: integer (nullable = true)\n",
      " |-- Title: string (nullable = true)\n",
      " |-- Genre: string (nullable = true)\n",
      " |-- Description: string (nullable = true)\n",
      " |-- Director: string (nullable = true)\n",
      " |-- Actors: string (nullable = true)\n",
      " |-- Year: string (nullable = true)\n",
      " |-- Runtime (Minutes): string (nullable = true)\n",
      " |-- Rating: string (nullable = true)\n",
      " |-- Votes: string (nullable = true)\n",
      " |-- Revenue (Millions): double (nullable = true)\n",
      " |-- Metascore: double (nullable = true)\n",
      "\n"
     ]
    }
   ],
   "source": [
    "imdbDf.printSchema()"
   ]
  },
  {
   "cell_type": "code",
   "execution_count": 30,
   "id": "32ec918d",
   "metadata": {},
   "outputs": [
    {
     "name": "stdout",
     "output_type": "stream",
     "text": [
      "+----+--------------------+--------------------+--------------------+--------------------+--------------------+--------------------+-----------------+------+------+------------------+---------+\n",
      "|Rank|               Title|               Genre|         Description|            Director|              Actors|                Year|Runtime (Minutes)|Rating| Votes|Revenue (Millions)|Metascore|\n",
      "+----+--------------------+--------------------+--------------------+--------------------+--------------------+--------------------+-----------------+------+------+------------------+---------+\n",
      "|   1|Guardians of the ...|Action,Adventure,...|A group of interg...|          James Gunn|Chris Pratt, Vin ...|                2014|              121|   8.1|757074|            333.13|     76.0|\n",
      "|   2|          Prometheus|Adventure,Mystery...|Following clues t...|        Ridley Scott|Noomi Rapace, Log...|                2012|              124|     7|485820|            126.46|     65.0|\n",
      "|   3|               Split|     Horror,Thriller|Three girls are k...|  M. Night Shyamalan|James McAvoy, Any...|                2016|              117|   7.3|157606|            138.12|     62.0|\n",
      "|   4|                Sing|Animation,Comedy,...|In a city of huma...|Christophe Lourdelet|Matthew McConaugh...|                2016|              108|   7.2| 60545|            270.32|     59.0|\n",
      "|   5|       Suicide Squad|Action,Adventure,...|A secret governme...|          David Ayer|Will Smith, Jared...|                2016|              123|   6.2|393727|            325.02|     40.0|\n",
      "|   6|      The Great Wall|Action,Adventure,...|European mercenar...|         Yimou Zhang|Matt Damon, Tian ...|                2016|              103|   6.1| 56036|             45.13|     42.0|\n",
      "|   7|          La La Land|  Comedy,Drama,Music|A jazz pianist fa...|     Damien Chazelle|Ryan Gosling, Emm...|                2016|              128|   8.3|258682|            151.06|     93.0|\n",
      "|   8|            Mindhorn|              Comedy|\"A has-been actor...| whom he believes...|          Sean Foley|Essie Davis, Andr...|             2016|    89|   6.4|            2490.0|     null|\n",
      "|   9|  The Lost City of Z|Action,Adventure,...|A true-life drama...|          James Gray|Charlie Hunnam, R...|                2016|              141|   7.1|  7188|              8.01|     78.0|\n",
      "|  10|          Passengers|Adventure,Drama,R...|A spacecraft trav...|       Morten Tyldum|Jennifer Lawrence...|                2016|              116|     7|192177|            100.01|     41.0|\n",
      "|  11|Fantastic Beasts ...|Adventure,Family,...|The adventures of...|         David Yates|Eddie Redmayne, K...|                2016|              133|   7.5|232072|            234.02|     66.0|\n",
      "|  12|      Hidden Figures|Biography,Drama,H...|The story of a te...|      Theodore Melfi|Taraji P. Henson,...|                2016|              127|   7.8| 93103|            169.27|     74.0|\n",
      "|  13|           Rogue One|Action,Adventure,...|The Rebel Allianc...|      Gareth Edwards|Felicity Jones, D...|                2016|              133|   7.9|323118|            532.17|     65.0|\n",
      "|  14|               Moana|Animation,Adventu...|In Ancient Polyne...|        Ron Clements|Auli'i Cravalho, ...|                2016|              107|   7.7|118151|            248.75|     81.0|\n",
      "|  15|            Colossal| Action,Comedy,Drama|Gloria is an out-...|     Nacho Vigalondo|Anne Hathaway, Ja...|                2016|              109|   6.4|  8612|              2.87|     70.0|\n",
      "|  16|The Secret Life o...|Animation,Adventu...|The quiet life of...|        Chris Renaud|Louis C.K., Eric ...|                2016|               87|   6.6|120259|            368.31|     61.0|\n",
      "|  17|       Hacksaw Ridge|Biography,Drama,H...|WWII American Arm...|          Mel Gibson|Andrew Garfield, ...|                2016|              139|   8.2|211760|             67.12|     71.0|\n",
      "|  18|        Jason Bourne|     Action,Thriller|The CIA's most da...|     Paul Greengrass|Matt Damon, Tommy...|                2016|              123|   6.7|150823|            162.16|     58.0|\n",
      "|  19|                Lion|     Biography,Drama|A five-year-old I...|         Garth Davis|Dev Patel, Nicole...|                2016|              118|   8.1|102061|             51.69|     69.0|\n",
      "|  20|             Arrival|Drama,Mystery,Sci-Fi|When twelve myste...|    Denis Villeneuve|Amy Adams, Jeremy...|                2016|              116|     8|340798|             100.5|     81.0|\n",
      "+----+--------------------+--------------------+--------------------+--------------------+--------------------+--------------------+-----------------+------+------+------------------+---------+\n",
      "only showing top 20 rows\n",
      "\n"
     ]
    }
   ],
   "source": [
    "imdbDf.show()"
   ]
  },
  {
   "cell_type": "code",
   "execution_count": 35,
   "id": "895b9f6a",
   "metadata": {},
   "outputs": [],
   "source": [
    "#  |-- Rank: integer (nullable = true)\n",
    "#  |-- Title: string (nullable = true)\n",
    "#  |-- Genre: string (nullable = true)\n",
    "#  |-- Description: string (nullable = true)\n",
    "#  |-- Director: string (nullable = true)\n",
    "#  |-- Actors: string (nullable = true)\n",
    "#  |-- Year: string (nullable = true)\n",
    "#  |-- Runtime (Minutes): string (nullable = true)\n",
    "#  |-- Rating: string (nullable = true)\n",
    "#  |-- Votes: string (nullable = true)\n",
    "#  |-- Revenue (Millions): double (nullable = true)\n",
    "#  |-- Metascore: double (nullable = true)\n",
    "\n",
    "from pyspark.sql.types import StructType, StructField, IntegerType, StringType, DoubleType\n",
    "udfSchema = StructType([StructField(\"Rank\", IntegerType(), False), \n",
    "                       StructField(\"Title\", StringType(), False),\n",
    "                       StructField(\"Genre\", StringType(), True),\n",
    "                       StructField(\"Description\", StringType(), True),\n",
    "                       StructField(\"Director\", StringType(), False),\n",
    "                       StructField(\"Actors\", StringType(), False),\n",
    "                       StructField(\"Year\", IntegerType(), False),\n",
    "                       StructField(\"Runtime\", IntegerType(), True),\n",
    "                       StructField(\"Rating\", DoubleType(), True),\n",
    "                       StructField(\"Votes\", IntegerType(), True),\n",
    "                       StructField(\"Revenue_Millions\", DoubleType(), True),\n",
    "                       StructField(\"MetaScore\", DoubleType(), False),\n",
    "                    ])\n",
    "imdbDf01 = spark.read.schema(udfSchema).option(\"header\", True).csv(\"/home/labuser/Downloads/IMDB-Movie-Data.csv\")"
   ]
  },
  {
   "cell_type": "code",
   "execution_count": 36,
   "id": "136c1d3e",
   "metadata": {},
   "outputs": [
    {
     "name": "stdout",
     "output_type": "stream",
     "text": [
      "+----+--------------------+--------------------+--------------------+--------------------+--------------------+----+-------+------+------+----------------+---------+\n",
      "|Rank|               Title|               Genre|         Description|            Director|              Actors|Year|Runtime|Rating| Votes|Revenue_Millions|MetaScore|\n",
      "+----+--------------------+--------------------+--------------------+--------------------+--------------------+----+-------+------+------+----------------+---------+\n",
      "|   1|Guardians of the ...|Action,Adventure,...|A group of interg...|          James Gunn|Chris Pratt, Vin ...|2014|    121|   8.1|757074|          333.13|     76.0|\n",
      "|   2|          Prometheus|Adventure,Mystery...|Following clues t...|        Ridley Scott|Noomi Rapace, Log...|2012|    124|   7.0|485820|          126.46|     65.0|\n",
      "|   3|               Split|     Horror,Thriller|Three girls are k...|  M. Night Shyamalan|James McAvoy, Any...|2016|    117|   7.3|157606|          138.12|     62.0|\n",
      "|   4|                Sing|Animation,Comedy,...|In a city of huma...|Christophe Lourdelet|Matthew McConaugh...|2016|    108|   7.2| 60545|          270.32|     59.0|\n",
      "|   5|       Suicide Squad|Action,Adventure,...|A secret governme...|          David Ayer|Will Smith, Jared...|2016|    123|   6.2|393727|          325.02|     40.0|\n",
      "|   6|      The Great Wall|Action,Adventure,...|European mercenar...|         Yimou Zhang|Matt Damon, Tian ...|2016|    103|   6.1| 56036|           45.13|     42.0|\n",
      "|   7|          La La Land|  Comedy,Drama,Music|A jazz pianist fa...|     Damien Chazelle|Ryan Gosling, Emm...|2016|    128|   8.3|258682|          151.06|     93.0|\n",
      "|   8|            Mindhorn|              Comedy|\"A has-been actor...| whom he believes...|          Sean Foley|null|   2016|  89.0|  null|          2490.0|     null|\n",
      "|   9|  The Lost City of Z|Action,Adventure,...|A true-life drama...|          James Gray|Charlie Hunnam, R...|2016|    141|   7.1|  7188|            8.01|     78.0|\n",
      "|  10|          Passengers|Adventure,Drama,R...|A spacecraft trav...|       Morten Tyldum|Jennifer Lawrence...|2016|    116|   7.0|192177|          100.01|     41.0|\n",
      "|  11|Fantastic Beasts ...|Adventure,Family,...|The adventures of...|         David Yates|Eddie Redmayne, K...|2016|    133|   7.5|232072|          234.02|     66.0|\n",
      "|  12|      Hidden Figures|Biography,Drama,H...|The story of a te...|      Theodore Melfi|Taraji P. Henson,...|2016|    127|   7.8| 93103|          169.27|     74.0|\n",
      "|  13|           Rogue One|Action,Adventure,...|The Rebel Allianc...|      Gareth Edwards|Felicity Jones, D...|2016|    133|   7.9|323118|          532.17|     65.0|\n",
      "|  14|               Moana|Animation,Adventu...|In Ancient Polyne...|        Ron Clements|Auli'i Cravalho, ...|2016|    107|   7.7|118151|          248.75|     81.0|\n",
      "|  15|            Colossal| Action,Comedy,Drama|Gloria is an out-...|     Nacho Vigalondo|Anne Hathaway, Ja...|2016|    109|   6.4|  8612|            2.87|     70.0|\n",
      "|  16|The Secret Life o...|Animation,Adventu...|The quiet life of...|        Chris Renaud|Louis C.K., Eric ...|2016|     87|   6.6|120259|          368.31|     61.0|\n",
      "|  17|       Hacksaw Ridge|Biography,Drama,H...|WWII American Arm...|          Mel Gibson|Andrew Garfield, ...|2016|    139|   8.2|211760|           67.12|     71.0|\n",
      "|  18|        Jason Bourne|     Action,Thriller|The CIA's most da...|     Paul Greengrass|Matt Damon, Tommy...|2016|    123|   6.7|150823|          162.16|     58.0|\n",
      "|  19|                Lion|     Biography,Drama|A five-year-old I...|         Garth Davis|Dev Patel, Nicole...|2016|    118|   8.1|102061|           51.69|     69.0|\n",
      "|  20|             Arrival|Drama,Mystery,Sci-Fi|When twelve myste...|    Denis Villeneuve|Amy Adams, Jeremy...|2016|    116|   8.0|340798|           100.5|     81.0|\n",
      "+----+--------------------+--------------------+--------------------+--------------------+--------------------+----+-------+------+------+----------------+---------+\n",
      "only showing top 20 rows\n",
      "\n"
     ]
    },
    {
     "name": "stderr",
     "output_type": "stream",
     "text": [
      "23/09/21 09:39:38 WARN CSVHeaderChecker: CSV header does not conform to the schema.\n",
      " Header: Rank, Title, Genre, Description, Director, Actors, Year, Runtime (Minutes), Rating, Votes, Revenue (Millions), Metascore\n",
      " Schema: Rank, Title, Genre, Description, Director, Actors, Year, Runtime, Rating, Votes, Revenue_Millions, MetaScore\n",
      "Expected: Runtime but found: Runtime (Minutes)\n",
      "CSV file: file:///home/labuser/Downloads/IMDB-Movie-Data.csv\n"
     ]
    }
   ],
   "source": [
    "imdbDf01.show()"
   ]
  },
  {
   "cell_type": "code",
   "execution_count": 37,
   "id": "27a0e984",
   "metadata": {},
   "outputs": [
    {
     "name": "stdout",
     "output_type": "stream",
     "text": [
      "root\n",
      " |-- Rank: integer (nullable = true)\n",
      " |-- Title: string (nullable = true)\n",
      " |-- Genre: string (nullable = true)\n",
      " |-- Description: string (nullable = true)\n",
      " |-- Director: string (nullable = true)\n",
      " |-- Actors: string (nullable = true)\n",
      " |-- Year: integer (nullable = true)\n",
      " |-- Runtime: integer (nullable = true)\n",
      " |-- Rating: double (nullable = true)\n",
      " |-- Votes: integer (nullable = true)\n",
      " |-- Revenue_Millions: double (nullable = true)\n",
      " |-- MetaScore: double (nullable = true)\n",
      "\n"
     ]
    }
   ],
   "source": [
    "imdbDf01.printSchema()"
   ]
  },
  {
   "cell_type": "code",
   "execution_count": null,
   "id": "06ec7afe",
   "metadata": {},
   "outputs": [],
   "source": []
  }
 ],
 "metadata": {
  "kernelspec": {
   "display_name": "Python 3 (ipykernel)",
   "language": "python",
   "name": "python3"
  },
  "language_info": {
   "codemirror_mode": {
    "name": "ipython",
    "version": 3
   },
   "file_extension": ".py",
   "mimetype": "text/x-python",
   "name": "python",
   "nbconvert_exporter": "python",
   "pygments_lexer": "ipython3",
   "version": "3.11.4"
  }
 },
 "nbformat": 4,
 "nbformat_minor": 5
}
