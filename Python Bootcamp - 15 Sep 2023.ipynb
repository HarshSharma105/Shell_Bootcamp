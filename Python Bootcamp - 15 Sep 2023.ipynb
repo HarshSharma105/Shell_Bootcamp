{
 "cells": [
  {
   "cell_type": "markdown",
   "id": "036c4a5e",
   "metadata": {},
   "source": [
    "# Day 24 - 15 Sep 2023 (Python)"
   ]
  },
  {
   "cell_type": "markdown",
   "id": "fd4f5209",
   "metadata": {},
   "source": [
    "## Basics of Python Language"
   ]
  },
  {
   "cell_type": "markdown",
   "id": "6d892699",
   "metadata": {},
   "source": [
    "## Name : Harsh Sharma, Batch : 03"
   ]
  },
  {
   "cell_type": "markdown",
   "id": "d30cef64",
   "metadata": {},
   "source": [
    "### Examples showing varialbes of each data type in python"
   ]
  },
  {
   "cell_type": "code",
   "execution_count": 3,
   "id": "f9d21981",
   "metadata": {
    "scrolled": true
   },
   "outputs": [
    {
     "name": "stdout",
     "output_type": "stream",
     "text": [
      "12\n",
      "1.23\n",
      "abcd\n",
      "True\n",
      "[12, 1.23, 'abcd', True]\n",
      "(12, 1.23, 'abcd', True)\n",
      "{'abcd': 12, 1.23: True, 12: [12, 1.23, 'abcd', True]}\n"
     ]
    }
   ],
   "source": [
    "# Integer\n",
    "\n",
    "integerVariable = 12\n",
    "\n",
    "print(integerVariable)\n",
    "\n",
    "# Float\n",
    "\n",
    "floatVariable = 1.23\n",
    "\n",
    "print(floatVariable)\n",
    "\n",
    "# String\n",
    "\n",
    "stringVariable = \"abcd\"\n",
    "\n",
    "print(stringVariable)\n",
    "\n",
    "# Boolean\n",
    "\n",
    "booleanVariable = True\n",
    "\n",
    "print(booleanVariable)\n",
    "\n",
    "# List\n",
    "\n",
    "listVariable = [integerVariable, floatVariable, stringVariable, booleanVariable]\n",
    "\n",
    "print(listVariable)\n",
    "\n",
    "# Tuple\n",
    "\n",
    "tupleVariable = (integerVariable, floatVariable, stringVariable, booleanVariable)\n",
    "\n",
    "print(tupleVariable)\n",
    "\n",
    "# Dictionary\n",
    "\n",
    "dictionaryVariable = {stringVariable : integerVariable, floatVariable : booleanVariable, integerVariable : listVariable}\n",
    "\n",
    "print(dictionaryVariable"
   ]
  },
  {
   "cell_type": "code",
   "execution_count": 4,
   "id": "82bccc8d",
   "metadata": {},
   "outputs": [
    {
     "name": "stdout",
     "output_type": "stream",
     "text": [
      "{'orange', 'apple', 'cherry'}\n"
     ]
    }
   ],
   "source": [
    "# Accessing elements in lists and dictionaries\n",
    "numbers = [1, 2, 3, 4, 5]\n",
    "fruits = [\"apple\", \"banana\", \"cherry\"]\n",
    "# Tuples\n",
    "coordinates = (3, 4)\n",
    "\n",
    "# Dictionaries\n",
    "person = {\"name\": \"Alice\", \"age\": 30, \"city\": \"New York\"}\n",
    "grades = {\"math\": 92, \"history\": 85, \"science\": 88}\n",
    "first_number = numbers[0]\n",
    "last_fruit = fruits[-1]\n",
    "name = person[\"name\"]\n",
    "math_grade = grades[\"math\"]\n",
    "\n",
    "# Creating a set using curly braces\n",
    "fruits = {\"apple\", \"banana\", \"cherry\"}\n",
    "\n",
    "# Creating a set using the set() constructor\n",
    "colors = set([\"red\", \"green\", \"blue\"])\n",
    "\n",
    "# Adding elements to a set\n",
    "fruits.add(\"orange\")\n",
    "\n",
    "# Removing elements from a set\n",
    "fruits.remove(\"banana\")\n",
    "\n",
    "print(fruits)\n",
    "\n",
    "####################\n",
    "\n",
    "\n",
    "# Arithmetic Operator\n",
    "a = 10\n",
    "b = 5\n",
    "\n",
    "# Addition\n",
    "addition = a + b  # Result: 15\n",
    "\n",
    "# Subtraction\n",
    "subtraction = a - b  # Result: 5\n",
    "\n",
    "# Multiplication\n",
    "multiplication = a * b  # Result: 50\n",
    "\n",
    "# Division\n",
    "division = a / b  # Result: 2.0 (Python 3 always returns a float in division)\n",
    "\n",
    "# Modulus (remainder)\n",
    "modulus = a % b  # Result: 0\n",
    "\n",
    "# Exponentiation\n",
    "exponentiation = a ** b  # Result: 100000\n",
    "\n",
    "\n",
    "### Membership Operator\n",
    "\n",
    "my_list = [1, 2, 3, 4, 5]\n",
    "\n",
    "\n",
    "# Membership - in operator\n",
    "is_in_list = 3 in my_list  # Result: True\n",
    "\n",
    "# Membership - not in operator\n",
    "is_not_in_list = 6 not in my_list  # Result: True"
   ]
  },
  {
   "cell_type": "code",
   "execution_count": 12,
   "id": "a713a87a",
   "metadata": {},
   "outputs": [
    {
     "name": "stdout",
     "output_type": "stream",
     "text": [
      "Helper Program for Region Expansion \n",
      "\n",
      "Answer following Questions!!\n",
      "Details for StationE: \n",
      "\n",
      "Is staE profitable ? (yes/no) yes\n",
      "Is Fuel Price Low for staE ? (yes/no) no\n",
      "Are the Users Satisifed with staE ? (yes/no) no\n",
      "Expand to staE => False\n",
      "Details for StationF: \n",
      "\n",
      "Is staF profitable ? (yes/no) yes\n",
      "Is Fuel Price Low for staF ? (yes/no) yes\n",
      "Are the Users Satisifed with staF ? (yes/no) no\n",
      "Expand to staF => True\n",
      "\n",
      "\n",
      "List of Regions with Stations : \n",
      " {'North': ['StaA', 'StaB', 'StaC', 'StaD', 'StaF'], 'South': ['StaA', 'StaB', 'StaC', 'StaD', 'StaF'], 'East': ['StaA', 'StaB', 'StaC', 'StaD', 'StaF'], 'West': ['StaA', 'StaB', 'StaC', 'StaD', 'StaF']}\n"
     ]
    }
   ],
   "source": [
    "import copy\n",
    "\n",
    "print(\"Helper Program for Region Expansion \\n\")\n",
    "\n",
    "# Regions\n",
    "\n",
    "Stations = [\"StaA\", \"StaB\", \"StaC\", \"StaD\"]\n",
    "\n",
    "Regions = {\"North\" : copy.deepcopy(Stations), \"South\" : copy.deepcopy(Stations), \"East\" : copy.deepcopy(Stations), \"West\" : copy.deepcopy(Stations)}\n",
    "\n",
    "Decisions = {\"yes\" : True, \"no\" : False}\n",
    "\n",
    "print(\"Answer following Questions!!\")\n",
    "\n",
    "for stationNumber in range(2):\n",
    "    print(\"Details for Station\" + chr(69 + stationNumber) + \": \\n\")\n",
    "    \n",
    "    is_profitable = bool(Decisions[input(\"Is sta\" + chr(69 + stationNumber) + \" profitable ? (yes/no) \")])\n",
    "    \n",
    "    low_fuel_price = bool(Decisions[input(\"Is Fuel Price Low for sta\" + chr(69 + stationNumber) + \" ? (yes/no) \")])\n",
    "    \n",
    "    user_satisfaction = bool(Decisions[input(\"Are the Users Satisifed with sta\" + chr(69 + stationNumber) + \" ? (yes/no) \")])\n",
    "    \n",
    "    expansion = is_profitable and (low_fuel_price or user_satisfaction)\n",
    "    \n",
    "    print(\"Expand to sta\" + chr(69 + stationNumber) + \" => \" + str(expansion))\n",
    "    \n",
    "    if(expansion):\n",
    "        for region in Regions:\n",
    "            Regions[region].append(\"Sta\" + chr(69 + stationNumber))\n",
    "\n",
    "print(\"\\n\")            \n",
    "print(\"List of Regions with Stations : \\n\", Regions)"
   ]
  },
  {
   "cell_type": "code",
   "execution_count": 14,
   "id": "08624369",
   "metadata": {},
   "outputs": [
    {
     "name": "stdout",
     "output_type": "stream",
     "text": [
      "My name is Jaune and I am 13 years old.\n"
     ]
    }
   ],
   "source": [
    "### String Formatting\n",
    "\n",
    "name = \"Jaune\"\n",
    "\n",
    "age = 13\n",
    "\n",
    "formatted_string = \"My name is {} and I am {} years old.\".format(name, age)\n",
    "\n",
    "print(formatted_string)"
   ]
  },
  {
   "cell_type": "code",
   "execution_count": 15,
   "id": "ad451241",
   "metadata": {},
   "outputs": [
    {
     "name": "stdout",
     "output_type": "stream",
     "text": [
      "<zip object at 0x7f954d0e34c0>\n",
      "(1, 'a')\n",
      "(2, 'b')\n",
      "(3, 'c')\n"
     ]
    }
   ],
   "source": [
    "### Zip function\n",
    "\n",
    "list1 = [1,2,3]\n",
    "list2 = ['a', 'b', 'c', 'd']\n",
    "\n",
    "zipped = zip(list1, list2)\n",
    "\n",
    "print(zipped)\n",
    "\n",
    "for item in zipped:\n",
    "    print(item)"
   ]
  },
  {
   "cell_type": "code",
   "execution_count": 17,
   "id": "da7b1a4c",
   "metadata": {},
   "outputs": [
    {
     "name": "stdout",
     "output_type": "stream",
     "text": [
      "a 0\n",
      "b 1\n",
      "c 2\n"
     ]
    }
   ],
   "source": [
    "### enumerate\n",
    "\n",
    "list1 = ['a', 'b', 'c']\n",
    "\n",
    "for index, item in enumerate(list1):\n",
    "    print(item, index)"
   ]
  },
  {
   "cell_type": "code",
   "execution_count": 20,
   "id": "5a9a56d9",
   "metadata": {},
   "outputs": [
    {
     "name": "stdout",
     "output_type": "stream",
     "text": [
      "Helper Program for Region Expansion \n",
      "\n",
      "Answer following Questions!!\n",
      "Details for StationE: \n",
      "\n",
      "Is staE profitable ? (yes/no) yes\n",
      "Is Fuel Price Low for staE ? (yes/no) no\n",
      "Are the Users Satisifed with staE ? (yes/no) no\n",
      "Expand to staE => False\n",
      "Details for StationF: \n",
      "\n",
      "Is staF profitable ? (yes/no) yes\n",
      "Is Fuel Price Low for staF ? (yes/no) no\n",
      "Are the Users Satisifed with staF ? (yes/no) yes\n",
      "Expand to staF => True\n",
      "\n",
      "\n",
      "List of Regions with Stations : \n",
      " {'North': ['StaA', 'StaB', 'StaC', 'StaD', 'StaF'], 'South': ['StaA', 'StaB', 'StaC', 'StaD', 'StaF'], 'East': ['StaA', 'StaB', 'StaC', 'StaD', 'StaF'], 'West': ['StaA', 'StaB', 'StaC', 'StaD', 'StaF']}\n"
     ]
    }
   ],
   "source": [
    "### using functions to make generic code\n",
    "\n",
    "import copy\n",
    "\n",
    "print(\"Helper Program for Region Expansion \\n\")\n",
    "\n",
    "# Regions\n",
    "\n",
    "Stations = [\"StaA\", \"StaB\", \"StaC\", \"StaD\"]\n",
    "\n",
    "Regions = {\"North\" : copy.deepcopy(Stations), \"South\" : copy.deepcopy(Stations), \"East\" : copy.deepcopy(Stations), \"West\" : copy.deepcopy(Stations)}\n",
    "\n",
    "Decisions = {\"yes\" : True, \"no\" : False}\n",
    "\n",
    "print(\"Answer following Questions!!\")\n",
    "\n",
    "for stationNumber in range(2):\n",
    "    print(\"Details for Station\" + chr(69 + stationNumber) + \": \\n\")\n",
    "    \n",
    "    is_profitable = bool(Decisions[input(\"Is sta\" + chr(69 + stationNumber) + \" profitable ? (yes/no) \")])\n",
    "    \n",
    "    low_fuel_price = bool(Decisions[input(\"Is Fuel Price Low for sta\" + chr(69 + stationNumber) + \" ? (yes/no) \")])\n",
    "    \n",
    "    user_satisfaction = bool(Decisions[input(\"Are the Users Satisifed with sta\" + chr(69 + stationNumber) + \" ? (yes/no) \")])\n",
    "    \n",
    "    expansion = is_profitable and (low_fuel_price or user_satisfaction)\n",
    "    \n",
    "    print(\"Expand to sta\" + chr(69 + stationNumber) + \" => \" + str(expansion))\n",
    "    \n",
    "    if(expansion):\n",
    "        for region in Regions:\n",
    "            Regions[region].append(\"Sta\" + chr(69 + stationNumber))\n",
    "\n",
    "print(\"\\n\")            \n",
    "print(\"List of Regions with Stations : \\n\", Regions)"
   ]
  },
  {
   "cell_type": "code",
   "execution_count": null,
   "id": "d3d56d34",
   "metadata": {},
   "outputs": [],
   "source": []
  }
 ],
 "metadata": {
  "kernelspec": {
   "display_name": "Python 3 (ipykernel)",
   "language": "python",
   "name": "python3"
  },
  "language_info": {
   "codemirror_mode": {
    "name": "ipython",
    "version": 3
   },
   "file_extension": ".py",
   "mimetype": "text/x-python",
   "name": "python",
   "nbconvert_exporter": "python",
   "pygments_lexer": "ipython3",
   "version": "3.11.4"
  }
 },
 "nbformat": 4,
 "nbformat_minor": 5
}
