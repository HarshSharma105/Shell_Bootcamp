{
 "cells": [
  {
   "cell_type": "code",
   "execution_count": 1,
   "id": "5cff2371",
   "metadata": {},
   "outputs": [],
   "source": [
    "import findspark\n",
    "findspark.init()"
   ]
  },
  {
   "cell_type": "code",
   "execution_count": 2,
   "id": "b5a7025d",
   "metadata": {},
   "outputs": [],
   "source": [
    "from pyspark.sql import SparkSession"
   ]
  },
  {
   "cell_type": "code",
   "execution_count": 3,
   "id": "6d69f616",
   "metadata": {},
   "outputs": [
    {
     "name": "stderr",
     "output_type": "stream",
     "text": [
      "Setting default log level to \"WARN\".\n",
      "To adjust logging level use sc.setLogLevel(newLevel). For SparkR, use setLogLevel(newLevel).\n",
      "23/09/22 08:10:38 WARN NativeCodeLoader: Unable to load native-hadoop library for your platform... using builtin-java classes where applicable\n"
     ]
    }
   ],
   "source": [
    "# Initialize Spark Session\n",
    "\n",
    "spark = SparkSession.builder.appName(\"WordCount\").getOrCreate()"
   ]
  },
  {
   "cell_type": "code",
   "execution_count": 4,
   "id": "608d4961",
   "metadata": {},
   "outputs": [],
   "source": [
    "sc=spark.sparkContext"
   ]
  },
  {
   "cell_type": "code",
   "execution_count": 5,
   "id": "12be0c6d",
   "metadata": {},
   "outputs": [],
   "source": [
    "rdd = sc.parallelize([1,2,3,4])"
   ]
  },
  {
   "cell_type": "code",
   "execution_count": 6,
   "id": "18b9ab7f",
   "metadata": {},
   "outputs": [
    {
     "name": "stderr",
     "output_type": "stream",
     "text": [
      "                                                                                \r"
     ]
    },
    {
     "data": {
      "text/plain": [
       "[1, 2, 3, 4]"
      ]
     },
     "execution_count": 6,
     "metadata": {},
     "output_type": "execute_result"
    }
   ],
   "source": [
    "rdd.collect()"
   ]
  },
  {
   "cell_type": "code",
   "execution_count": 7,
   "id": "a7abed71",
   "metadata": {},
   "outputs": [],
   "source": [
    "resultRdd = rdd.map(lambda x: x*2)"
   ]
  },
  {
   "cell_type": "code",
   "execution_count": 8,
   "id": "14f16804",
   "metadata": {},
   "outputs": [
    {
     "name": "stderr",
     "output_type": "stream",
     "text": [
      "                                                                                \r"
     ]
    },
    {
     "data": {
      "text/plain": [
       "[2, 4, 6, 8]"
      ]
     },
     "execution_count": 8,
     "metadata": {},
     "output_type": "execute_result"
    }
   ],
   "source": [
    "resultRdd.collect()"
   ]
  },
  {
   "cell_type": "code",
   "execution_count": 9,
   "id": "889724fe",
   "metadata": {},
   "outputs": [],
   "source": [
    "rdd1 = sc.parallelize([1,2,3,4,5])"
   ]
  },
  {
   "cell_type": "code",
   "execution_count": 10,
   "id": "57e14178",
   "metadata": {},
   "outputs": [
    {
     "data": {
      "text/plain": [
       "[1, 2, 3, 4, 5]"
      ]
     },
     "execution_count": 10,
     "metadata": {},
     "output_type": "execute_result"
    }
   ],
   "source": [
    "rdd1.collect()"
   ]
  },
  {
   "cell_type": "code",
   "execution_count": 11,
   "id": "71317cbe",
   "metadata": {},
   "outputs": [
    {
     "data": {
      "text/plain": [
       "[1, 2, 2, 4, 3, 6, 4, 8, 5, 10]"
      ]
     },
     "execution_count": 11,
     "metadata": {},
     "output_type": "execute_result"
    }
   ],
   "source": [
    "resultrdd1 = rdd1.flatMap(lambda x : (x, x*2))\n",
    "resultrdd1.collect()"
   ]
  },
  {
   "cell_type": "code",
   "execution_count": 12,
   "id": "06cd1364",
   "metadata": {},
   "outputs": [
    {
     "data": {
      "text/plain": [
       "[2, 4, 6]"
      ]
     },
     "execution_count": 12,
     "metadata": {},
     "output_type": "execute_result"
    }
   ],
   "source": [
    "rdd3 = sc.parallelize([1,2,3,4,5,6,7])\n",
    "resultrdd3 = rdd3.filter(lambda x : x % 2 ==0)\n",
    "resultrdd3.collect()"
   ]
  },
  {
   "cell_type": "code",
   "execution_count": 13,
   "id": "af8053e7",
   "metadata": {},
   "outputs": [
    {
     "name": "stderr",
     "output_type": "stream",
     "text": [
      "                                                                                \r"
     ]
    },
    {
     "data": {
      "text/plain": [
       "[(2, 8), (1, 8), (3, 7)]"
      ]
     },
     "execution_count": 13,
     "metadata": {},
     "output_type": "execute_result"
    }
   ],
   "source": [
    "rdd4 = sc.parallelize([(1,2), (2,1), (1,6), (2,7), (3,7)])\n",
    "resultRdd4 = rdd4.reduceByKey(lambda x,y : x+y)\n",
    "resultRdd4.collect()"
   ]
  },
  {
   "cell_type": "code",
   "execution_count": 14,
   "id": "94953584",
   "metadata": {},
   "outputs": [
    {
     "data": {
      "text/plain": [
       "[(2, <pyspark.resultiterable.ResultIterable at 0x7faf790ed150>),\n",
       " (1, <pyspark.resultiterable.ResultIterable at 0x7faf790f5190>),\n",
       " (3, <pyspark.resultiterable.ResultIterable at 0x7faf790ed290>)]"
      ]
     },
     "execution_count": 14,
     "metadata": {},
     "output_type": "execute_result"
    }
   ],
   "source": [
    "rdd5 = sc.parallelize([(1,2), (2,1), (1,6), (2,7), (3,7)])\n",
    "resultRdd5 = rdd5.groupByKey()\n",
    "resultRdd5.collect()"
   ]
  },
  {
   "cell_type": "code",
   "execution_count": 15,
   "id": "c7d9176f",
   "metadata": {},
   "outputs": [
    {
     "name": "stdout",
     "output_type": "stream",
     "text": [
      "Key : 2, Values : [1, 7]\n",
      "Key : 1, Values : [2, 6]\n",
      "Key : 3, Values : [7]\n"
     ]
    },
    {
     "name": "stderr",
     "output_type": "stream",
     "text": [
      "\r",
      "[Stage 10:=============================>                            (1 + 1) / 2]\r",
      "\r",
      "                                                                                \r"
     ]
    }
   ],
   "source": [
    "for key, value in resultRdd5.collect():\n",
    "    print(f\"Key : {key}, Values : {list(value)}\")"
   ]
  },
  {
   "cell_type": "code",
   "execution_count": 16,
   "id": "af7093ea",
   "metadata": {},
   "outputs": [
    {
     "name": "stdout",
     "output_type": "stream",
     "text": [
      "['this', 'is', 'a', 'sample', 'text', 'document', 'for', 'word', 'count', 'examples']\n"
     ]
    }
   ],
   "source": [
    "word_list = list(\"this is a sample text document for word count examples\".split(\" \"))\n",
    "print(word_list)"
   ]
  },
  {
   "cell_type": "code",
   "execution_count": 17,
   "id": "ac7cd6a7",
   "metadata": {},
   "outputs": [
    {
     "data": {
      "text/plain": [
       "['this',\n",
       " 'is',\n",
       " 'a',\n",
       " 'sample',\n",
       " 'text',\n",
       " 'document',\n",
       " 'for',\n",
       " 'word',\n",
       " 'count',\n",
       " 'examples']"
      ]
     },
     "execution_count": 17,
     "metadata": {},
     "output_type": "execute_result"
    }
   ],
   "source": [
    "rdd6 = sc.parallelize(word_list)\n",
    "rdd6.collect()"
   ]
  },
  {
   "cell_type": "code",
   "execution_count": 18,
   "id": "e7786d30",
   "metadata": {},
   "outputs": [
    {
     "data": {
      "text/plain": [
       "['this',\n",
       " 'is',\n",
       " 'a',\n",
       " 'sample',\n",
       " 'text',\n",
       " 'document',\n",
       " 'for',\n",
       " 'word',\n",
       " 'count',\n",
       " 'examples']"
      ]
     },
     "execution_count": 18,
     "metadata": {},
     "output_type": "execute_result"
    }
   ],
   "source": [
    "word_count = rdd6.flatMap(lambda x: x.split(\",\"))\n",
    "word_count.collect()"
   ]
  },
  {
   "cell_type": "code",
   "execution_count": 19,
   "id": "42a88642",
   "metadata": {},
   "outputs": [],
   "source": [
    "word_counts = word_count.map(lambda word : (word, 1)).reduceByKey(lambda x,y: x+y)"
   ]
  },
  {
   "cell_type": "code",
   "execution_count": 20,
   "id": "6c8965e4",
   "metadata": {},
   "outputs": [
    {
     "name": "stdout",
     "output_type": "stream",
     "text": [
      "this : 1\n",
      "sample : 1\n",
      "text : 1\n",
      "for : 1\n",
      "word : 1\n",
      "examples : 1\n",
      "is : 1\n",
      "a : 1\n",
      "document : 1\n",
      "count : 1\n"
     ]
    }
   ],
   "source": [
    "for word, count in word_counts.collect():\n",
    "    print(f\"{word} : {count}\")"
   ]
  },
  {
   "cell_type": "code",
   "execution_count": 21,
   "id": "5394804b",
   "metadata": {},
   "outputs": [
    {
     "data": {
      "text/plain": [
       "pyspark.rdd.RDD"
      ]
     },
     "execution_count": 21,
     "metadata": {},
     "output_type": "execute_result"
    }
   ],
   "source": [
    "purchaseRdd = sc.textFile(\"/home/labuser/Downloads/purchases.csv\")\n",
    "type(purchaseRdd)"
   ]
  },
  {
   "cell_type": "code",
   "execution_count": 22,
   "id": "3c5cdd8e",
   "metadata": {},
   "outputs": [
    {
     "data": {
      "text/plain": [
       "[',apples,oranges', 'June,3,0', 'Robert,2,3', 'Lily,0,7', 'David,1,2']"
      ]
     },
     "execution_count": 22,
     "metadata": {},
     "output_type": "execute_result"
    }
   ],
   "source": [
    "purchaseRdd.collect()"
   ]
  },
  {
   "cell_type": "code",
   "execution_count": 23,
   "id": "4c6e3b18",
   "metadata": {},
   "outputs": [],
   "source": [
    "purchaseDf = spark.read.csv(\"/home/labuser/Downloads/purchases.csv\")"
   ]
  },
  {
   "cell_type": "code",
   "execution_count": 24,
   "id": "5b81656f",
   "metadata": {},
   "outputs": [
    {
     "name": "stdout",
     "output_type": "stream",
     "text": [
      "+------+------+-------+\n",
      "|   _c0|   _c1|    _c2|\n",
      "+------+------+-------+\n",
      "|  null|apples|oranges|\n",
      "|  June|     3|      0|\n",
      "|Robert|     2|      3|\n",
      "|  Lily|     0|      7|\n",
      "| David|     1|      2|\n",
      "+------+------+-------+\n",
      "\n"
     ]
    }
   ],
   "source": [
    "purchaseDf.show()"
   ]
  },
  {
   "cell_type": "code",
   "execution_count": 25,
   "id": "15307584",
   "metadata": {},
   "outputs": [],
   "source": [
    "purchaseDf_01 = spark.read.option(\"inferSchema\", True).option(\"header\", True).csv(\"/home/labuser/Downloads/purchases.csv\")"
   ]
  },
  {
   "cell_type": "code",
   "execution_count": 26,
   "id": "17287957",
   "metadata": {},
   "outputs": [
    {
     "name": "stdout",
     "output_type": "stream",
     "text": [
      "root\n",
      " |-- _c0: string (nullable = true)\n",
      " |-- apples: integer (nullable = true)\n",
      " |-- oranges: integer (nullable = true)\n",
      "\n"
     ]
    }
   ],
   "source": [
    "purchaseDf_01.printSchema()"
   ]
  },
  {
   "cell_type": "code",
   "execution_count": 27,
   "id": "130b67d2",
   "metadata": {},
   "outputs": [],
   "source": [
    "imdbDf = spark.read.option(\"inferSchema\", True).option(\"header\", True).csv(\"/home/labuser/Downloads/IMDB-Movie-Data.csv\")"
   ]
  },
  {
   "cell_type": "code",
   "execution_count": 28,
   "id": "9825612a",
   "metadata": {},
   "outputs": [
    {
     "name": "stdout",
     "output_type": "stream",
     "text": [
      "root\n",
      " |-- Rank: integer (nullable = true)\n",
      " |-- Title: string (nullable = true)\n",
      " |-- Genre: string (nullable = true)\n",
      " |-- Description: string (nullable = true)\n",
      " |-- Director: string (nullable = true)\n",
      " |-- Actors: string (nullable = true)\n",
      " |-- Year: string (nullable = true)\n",
      " |-- Runtime (Minutes): string (nullable = true)\n",
      " |-- Rating: string (nullable = true)\n",
      " |-- Votes: string (nullable = true)\n",
      " |-- Revenue (Millions): double (nullable = true)\n",
      " |-- Metascore: double (nullable = true)\n",
      "\n"
     ]
    }
   ],
   "source": [
    "imdbDf.printSchema()"
   ]
  },
  {
   "cell_type": "code",
   "execution_count": 29,
   "id": "d5f52ca9",
   "metadata": {},
   "outputs": [
    {
     "name": "stdout",
     "output_type": "stream",
     "text": [
      "+----+--------------------+--------------------+--------------------+--------------------+--------------------+--------------------+-----------------+------+------+------------------+---------+\n",
      "|Rank|               Title|               Genre|         Description|            Director|              Actors|                Year|Runtime (Minutes)|Rating| Votes|Revenue (Millions)|Metascore|\n",
      "+----+--------------------+--------------------+--------------------+--------------------+--------------------+--------------------+-----------------+------+------+------------------+---------+\n",
      "|   1|Guardians of the ...|Action,Adventure,...|A group of interg...|          James Gunn|Chris Pratt, Vin ...|                2014|              121|   8.1|757074|            333.13|     76.0|\n",
      "|   2|          Prometheus|Adventure,Mystery...|Following clues t...|        Ridley Scott|Noomi Rapace, Log...|                2012|              124|     7|485820|            126.46|     65.0|\n",
      "|   3|               Split|     Horror,Thriller|Three girls are k...|  M. Night Shyamalan|James McAvoy, Any...|                2016|              117|   7.3|157606|            138.12|     62.0|\n",
      "|   4|                Sing|Animation,Comedy,...|In a city of huma...|Christophe Lourdelet|Matthew McConaugh...|                2016|              108|   7.2| 60545|            270.32|     59.0|\n",
      "|   5|       Suicide Squad|Action,Adventure,...|A secret governme...|          David Ayer|Will Smith, Jared...|                2016|              123|   6.2|393727|            325.02|     40.0|\n",
      "|   6|      The Great Wall|Action,Adventure,...|European mercenar...|         Yimou Zhang|Matt Damon, Tian ...|                2016|              103|   6.1| 56036|             45.13|     42.0|\n",
      "|   7|          La La Land|  Comedy,Drama,Music|A jazz pianist fa...|     Damien Chazelle|Ryan Gosling, Emm...|                2016|              128|   8.3|258682|            151.06|     93.0|\n",
      "|   8|            Mindhorn|              Comedy|\"A has-been actor...| whom he believes...|          Sean Foley|Essie Davis, Andr...|             2016|    89|   6.4|            2490.0|     null|\n",
      "|   9|  The Lost City of Z|Action,Adventure,...|A true-life drama...|          James Gray|Charlie Hunnam, R...|                2016|              141|   7.1|  7188|              8.01|     78.0|\n",
      "|  10|          Passengers|Adventure,Drama,R...|A spacecraft trav...|       Morten Tyldum|Jennifer Lawrence...|                2016|              116|     7|192177|            100.01|     41.0|\n",
      "|  11|Fantastic Beasts ...|Adventure,Family,...|The adventures of...|         David Yates|Eddie Redmayne, K...|                2016|              133|   7.5|232072|            234.02|     66.0|\n",
      "|  12|      Hidden Figures|Biography,Drama,H...|The story of a te...|      Theodore Melfi|Taraji P. Henson,...|                2016|              127|   7.8| 93103|            169.27|     74.0|\n",
      "|  13|           Rogue One|Action,Adventure,...|The Rebel Allianc...|      Gareth Edwards|Felicity Jones, D...|                2016|              133|   7.9|323118|            532.17|     65.0|\n",
      "|  14|               Moana|Animation,Adventu...|In Ancient Polyne...|        Ron Clements|Auli'i Cravalho, ...|                2016|              107|   7.7|118151|            248.75|     81.0|\n",
      "|  15|            Colossal| Action,Comedy,Drama|Gloria is an out-...|     Nacho Vigalondo|Anne Hathaway, Ja...|                2016|              109|   6.4|  8612|              2.87|     70.0|\n",
      "|  16|The Secret Life o...|Animation,Adventu...|The quiet life of...|        Chris Renaud|Louis C.K., Eric ...|                2016|               87|   6.6|120259|            368.31|     61.0|\n",
      "|  17|       Hacksaw Ridge|Biography,Drama,H...|WWII American Arm...|          Mel Gibson|Andrew Garfield, ...|                2016|              139|   8.2|211760|             67.12|     71.0|\n",
      "|  18|        Jason Bourne|     Action,Thriller|The CIA's most da...|     Paul Greengrass|Matt Damon, Tommy...|                2016|              123|   6.7|150823|            162.16|     58.0|\n",
      "|  19|                Lion|     Biography,Drama|A five-year-old I...|         Garth Davis|Dev Patel, Nicole...|                2016|              118|   8.1|102061|             51.69|     69.0|\n",
      "|  20|             Arrival|Drama,Mystery,Sci-Fi|When twelve myste...|    Denis Villeneuve|Amy Adams, Jeremy...|                2016|              116|     8|340798|             100.5|     81.0|\n",
      "+----+--------------------+--------------------+--------------------+--------------------+--------------------+--------------------+-----------------+------+------+------------------+---------+\n",
      "only showing top 20 rows\n",
      "\n"
     ]
    }
   ],
   "source": [
    "imdbDf.show()"
   ]
  },
  {
   "cell_type": "code",
   "execution_count": 30,
   "id": "58211cd6",
   "metadata": {},
   "outputs": [],
   "source": [
    "#  |-- Rank: integer (nullable = true)\n",
    "#  |-- Title: string (nullable = true)\n",
    "#  |-- Genre: string (nullable = true)\n",
    "#  |-- Description: string (nullable = true)\n",
    "#  |-- Director: string (nullable = true)\n",
    "#  |-- Actors: string (nullable = true)\n",
    "#  |-- Year: string (nullable = true)\n",
    "#  |-- Runtime (Minutes): string (nullable = true)\n",
    "#  |-- Rating: string (nullable = true)\n",
    "#  |-- Votes: string (nullable = true)\n",
    "#  |-- Revenue (Millions): double (nullable = true)\n",
    "#  |-- Metascore: double (nullable = true)\n",
    "\n",
    "from pyspark.sql.types import StructType, StructField, IntegerType, StringType, DoubleType\n",
    "udfSchema = StructType([StructField(\"Rank\", IntegerType(), False), \n",
    "                       StructField(\"Title\", StringType(), False),\n",
    "                       StructField(\"Genre\", StringType(), True),\n",
    "                       StructField(\"Description\", StringType(), True),\n",
    "                       StructField(\"Director\", StringType(), False),\n",
    "                       StructField(\"Actors\", StringType(), False),\n",
    "                       StructField(\"Year\", IntegerType(), False),\n",
    "                       StructField(\"Runtime\", IntegerType(), True),\n",
    "                       StructField(\"Rating\", DoubleType(), True),\n",
    "                       StructField(\"Votes\", IntegerType(), True),\n",
    "                       StructField(\"Revenue_Millions\", DoubleType(), True),\n",
    "                       StructField(\"MetaScore\", DoubleType(), False),\n",
    "                    ])\n",
    "imdbDf01 = spark.read.schema(udfSchema).option(\"header\", True).csv(\"/home/labuser/Downloads/IMDB-Movie-Data.csv\")"
   ]
  },
  {
   "cell_type": "code",
   "execution_count": 31,
   "id": "614671a6",
   "metadata": {},
   "outputs": [
    {
     "name": "stdout",
     "output_type": "stream",
     "text": [
      "+----+--------------------+--------------------+--------------------+--------------------+--------------------+----+-------+------+------+----------------+---------+\n",
      "|Rank|               Title|               Genre|         Description|            Director|              Actors|Year|Runtime|Rating| Votes|Revenue_Millions|MetaScore|\n",
      "+----+--------------------+--------------------+--------------------+--------------------+--------------------+----+-------+------+------+----------------+---------+\n",
      "|   1|Guardians of the ...|Action,Adventure,...|A group of interg...|          James Gunn|Chris Pratt, Vin ...|2014|    121|   8.1|757074|          333.13|     76.0|\n",
      "|   2|          Prometheus|Adventure,Mystery...|Following clues t...|        Ridley Scott|Noomi Rapace, Log...|2012|    124|   7.0|485820|          126.46|     65.0|\n",
      "|   3|               Split|     Horror,Thriller|Three girls are k...|  M. Night Shyamalan|James McAvoy, Any...|2016|    117|   7.3|157606|          138.12|     62.0|\n",
      "|   4|                Sing|Animation,Comedy,...|In a city of huma...|Christophe Lourdelet|Matthew McConaugh...|2016|    108|   7.2| 60545|          270.32|     59.0|\n",
      "|   5|       Suicide Squad|Action,Adventure,...|A secret governme...|          David Ayer|Will Smith, Jared...|2016|    123|   6.2|393727|          325.02|     40.0|\n",
      "|   6|      The Great Wall|Action,Adventure,...|European mercenar...|         Yimou Zhang|Matt Damon, Tian ...|2016|    103|   6.1| 56036|           45.13|     42.0|\n",
      "|   7|          La La Land|  Comedy,Drama,Music|A jazz pianist fa...|     Damien Chazelle|Ryan Gosling, Emm...|2016|    128|   8.3|258682|          151.06|     93.0|\n",
      "|   8|            Mindhorn|              Comedy|\"A has-been actor...| whom he believes...|          Sean Foley|null|   2016|  89.0|  null|          2490.0|     null|\n",
      "|   9|  The Lost City of Z|Action,Adventure,...|A true-life drama...|          James Gray|Charlie Hunnam, R...|2016|    141|   7.1|  7188|            8.01|     78.0|\n",
      "|  10|          Passengers|Adventure,Drama,R...|A spacecraft trav...|       Morten Tyldum|Jennifer Lawrence...|2016|    116|   7.0|192177|          100.01|     41.0|\n",
      "|  11|Fantastic Beasts ...|Adventure,Family,...|The adventures of...|         David Yates|Eddie Redmayne, K...|2016|    133|   7.5|232072|          234.02|     66.0|\n",
      "|  12|      Hidden Figures|Biography,Drama,H...|The story of a te...|      Theodore Melfi|Taraji P. Henson,...|2016|    127|   7.8| 93103|          169.27|     74.0|\n",
      "|  13|           Rogue One|Action,Adventure,...|The Rebel Allianc...|      Gareth Edwards|Felicity Jones, D...|2016|    133|   7.9|323118|          532.17|     65.0|\n",
      "|  14|               Moana|Animation,Adventu...|In Ancient Polyne...|        Ron Clements|Auli'i Cravalho, ...|2016|    107|   7.7|118151|          248.75|     81.0|\n",
      "|  15|            Colossal| Action,Comedy,Drama|Gloria is an out-...|     Nacho Vigalondo|Anne Hathaway, Ja...|2016|    109|   6.4|  8612|            2.87|     70.0|\n",
      "|  16|The Secret Life o...|Animation,Adventu...|The quiet life of...|        Chris Renaud|Louis C.K., Eric ...|2016|     87|   6.6|120259|          368.31|     61.0|\n",
      "|  17|       Hacksaw Ridge|Biography,Drama,H...|WWII American Arm...|          Mel Gibson|Andrew Garfield, ...|2016|    139|   8.2|211760|           67.12|     71.0|\n",
      "|  18|        Jason Bourne|     Action,Thriller|The CIA's most da...|     Paul Greengrass|Matt Damon, Tommy...|2016|    123|   6.7|150823|          162.16|     58.0|\n",
      "|  19|                Lion|     Biography,Drama|A five-year-old I...|         Garth Davis|Dev Patel, Nicole...|2016|    118|   8.1|102061|           51.69|     69.0|\n",
      "|  20|             Arrival|Drama,Mystery,Sci-Fi|When twelve myste...|    Denis Villeneuve|Amy Adams, Jeremy...|2016|    116|   8.0|340798|           100.5|     81.0|\n",
      "+----+--------------------+--------------------+--------------------+--------------------+--------------------+----+-------+------+------+----------------+---------+\n",
      "only showing top 20 rows\n",
      "\n"
     ]
    },
    {
     "name": "stderr",
     "output_type": "stream",
     "text": [
      "23/09/22 08:11:15 WARN CSVHeaderChecker: CSV header does not conform to the schema.\n",
      " Header: Rank, Title, Genre, Description, Director, Actors, Year, Runtime (Minutes), Rating, Votes, Revenue (Millions), Metascore\n",
      " Schema: Rank, Title, Genre, Description, Director, Actors, Year, Runtime, Rating, Votes, Revenue_Millions, MetaScore\n",
      "Expected: Runtime but found: Runtime (Minutes)\n",
      "CSV file: file:///home/labuser/Downloads/IMDB-Movie-Data.csv\n"
     ]
    }
   ],
   "source": [
    "imdbDf01.show()"
   ]
  },
  {
   "cell_type": "code",
   "execution_count": 32,
   "id": "1350f038",
   "metadata": {},
   "outputs": [
    {
     "name": "stdout",
     "output_type": "stream",
     "text": [
      "root\n",
      " |-- Rank: integer (nullable = true)\n",
      " |-- Title: string (nullable = true)\n",
      " |-- Genre: string (nullable = true)\n",
      " |-- Description: string (nullable = true)\n",
      " |-- Director: string (nullable = true)\n",
      " |-- Actors: string (nullable = true)\n",
      " |-- Year: integer (nullable = true)\n",
      " |-- Runtime: integer (nullable = true)\n",
      " |-- Rating: double (nullable = true)\n",
      " |-- Votes: integer (nullable = true)\n",
      " |-- Revenue_Millions: double (nullable = true)\n",
      " |-- MetaScore: double (nullable = true)\n",
      "\n"
     ]
    }
   ],
   "source": [
    "imdbDf01.printSchema()"
   ]
  },
  {
   "cell_type": "code",
   "execution_count": 33,
   "id": "94703b83",
   "metadata": {},
   "outputs": [
    {
     "name": "stdout",
     "output_type": "stream",
     "text": [
      "+----+--------------------+--------------------+--------------------+--------------------+--------------------+----+-------+------+------+----------------+---------+-------------------+--------------------+\n",
      "|Rank|               Title|               Genre|         Description|            Director|              Actors|Year|Runtime|Rating| Votes|Revenue_Millions|MetaScore|Revenue_In_Millions|   updated_timestamp|\n",
      "+----+--------------------+--------------------+--------------------+--------------------+--------------------+----+-------+------+------+----------------+---------+-------------------+--------------------+\n",
      "|   1|Guardians of the ...|Action,Adventure,...|A group of interg...|          James Gunn|Chris Pratt, Vin ...|2014|    121|   8.1|757074|          333.13|     76.0|            33313.0|2023-09-22 08:11:...|\n",
      "|   2|          Prometheus|Adventure,Mystery...|Following clues t...|        Ridley Scott|Noomi Rapace, Log...|2012|    124|   7.0|485820|          126.46|     65.0|            12646.0|2023-09-22 08:11:...|\n",
      "|   3|               Split|     Horror,Thriller|Three girls are k...|  M. Night Shyamalan|James McAvoy, Any...|2016|    117|   7.3|157606|          138.12|     62.0|            13812.0|2023-09-22 08:11:...|\n",
      "|   4|                Sing|Animation,Comedy,...|In a city of huma...|Christophe Lourdelet|Matthew McConaugh...|2016|    108|   7.2| 60545|          270.32|     59.0|            27032.0|2023-09-22 08:11:...|\n",
      "|   5|       Suicide Squad|Action,Adventure,...|A secret governme...|          David Ayer|Will Smith, Jared...|2016|    123|   6.2|393727|          325.02|     40.0|            32502.0|2023-09-22 08:11:...|\n",
      "|   6|      The Great Wall|Action,Adventure,...|European mercenar...|         Yimou Zhang|Matt Damon, Tian ...|2016|    103|   6.1| 56036|           45.13|     42.0|             4513.0|2023-09-22 08:11:...|\n",
      "|   7|          La La Land|  Comedy,Drama,Music|A jazz pianist fa...|     Damien Chazelle|Ryan Gosling, Emm...|2016|    128|   8.3|258682|          151.06|     93.0|            15106.0|2023-09-22 08:11:...|\n",
      "|   8|            Mindhorn|              Comedy|\"A has-been actor...| whom he believes...|          Sean Foley|null|   2016|  89.0|  null|          2490.0|     null|           249000.0|2023-09-22 08:11:...|\n",
      "|   9|  The Lost City of Z|Action,Adventure,...|A true-life drama...|          James Gray|Charlie Hunnam, R...|2016|    141|   7.1|  7188|            8.01|     78.0|              801.0|2023-09-22 08:11:...|\n",
      "|  10|          Passengers|Adventure,Drama,R...|A spacecraft trav...|       Morten Tyldum|Jennifer Lawrence...|2016|    116|   7.0|192177|          100.01|     41.0|            10001.0|2023-09-22 08:11:...|\n",
      "|  11|Fantastic Beasts ...|Adventure,Family,...|The adventures of...|         David Yates|Eddie Redmayne, K...|2016|    133|   7.5|232072|          234.02|     66.0|            23402.0|2023-09-22 08:11:...|\n",
      "|  12|      Hidden Figures|Biography,Drama,H...|The story of a te...|      Theodore Melfi|Taraji P. Henson,...|2016|    127|   7.8| 93103|          169.27|     74.0|            16927.0|2023-09-22 08:11:...|\n",
      "|  13|           Rogue One|Action,Adventure,...|The Rebel Allianc...|      Gareth Edwards|Felicity Jones, D...|2016|    133|   7.9|323118|          532.17|     65.0|  53216.99999999999|2023-09-22 08:11:...|\n",
      "|  14|               Moana|Animation,Adventu...|In Ancient Polyne...|        Ron Clements|Auli'i Cravalho, ...|2016|    107|   7.7|118151|          248.75|     81.0|            24875.0|2023-09-22 08:11:...|\n",
      "|  15|            Colossal| Action,Comedy,Drama|Gloria is an out-...|     Nacho Vigalondo|Anne Hathaway, Ja...|2016|    109|   6.4|  8612|            2.87|     70.0|              287.0|2023-09-22 08:11:...|\n",
      "|  16|The Secret Life o...|Animation,Adventu...|The quiet life of...|        Chris Renaud|Louis C.K., Eric ...|2016|     87|   6.6|120259|          368.31|     61.0|            36831.0|2023-09-22 08:11:...|\n",
      "|  17|       Hacksaw Ridge|Biography,Drama,H...|WWII American Arm...|          Mel Gibson|Andrew Garfield, ...|2016|    139|   8.2|211760|           67.12|     71.0|             6712.0|2023-09-22 08:11:...|\n",
      "|  18|        Jason Bourne|     Action,Thriller|The CIA's most da...|     Paul Greengrass|Matt Damon, Tommy...|2016|    123|   6.7|150823|          162.16|     58.0|            16216.0|2023-09-22 08:11:...|\n",
      "|  19|                Lion|     Biography,Drama|A five-year-old I...|         Garth Davis|Dev Patel, Nicole...|2016|    118|   8.1|102061|           51.69|     69.0|             5169.0|2023-09-22 08:11:...|\n",
      "|  20|             Arrival|Drama,Mystery,Sci-Fi|When twelve myste...|    Denis Villeneuve|Amy Adams, Jeremy...|2016|    116|   8.0|340798|           100.5|     81.0|            10050.0|2023-09-22 08:11:...|\n",
      "+----+--------------------+--------------------+--------------------+--------------------+--------------------+----+-------+------+------+----------------+---------+-------------------+--------------------+\n",
      "only showing top 20 rows\n",
      "\n"
     ]
    },
    {
     "name": "stderr",
     "output_type": "stream",
     "text": [
      "23/09/22 08:11:16 WARN CSVHeaderChecker: CSV header does not conform to the schema.\n",
      " Header: Rank, Title, Genre, Description, Director, Actors, Year, Runtime (Minutes), Rating, Votes, Revenue (Millions), Metascore\n",
      " Schema: Rank, Title, Genre, Description, Director, Actors, Year, Runtime, Rating, Votes, Revenue_Millions, MetaScore\n",
      "Expected: Runtime but found: Runtime (Minutes)\n",
      "CSV file: file:///home/labuser/Downloads/IMDB-Movie-Data.csv\n"
     ]
    }
   ],
   "source": [
    "from pyspark.sql.functions import *\n",
    "import datetime\n",
    "\n",
    "imdbDf01 = imdbDf01.withColumn(\"Revenue_In_Millions\", col(\"Revenue_Millions\")*100).withColumn('updated_timestamp', lit(datetime.datetime.now()))\n",
    "\n",
    "imdbDf01.show()"
   ]
  },
  {
   "cell_type": "code",
   "execution_count": 34,
   "id": "15738acd",
   "metadata": {},
   "outputs": [
    {
     "data": {
      "text/plain": [
       "1"
      ]
     },
     "execution_count": 34,
     "metadata": {},
     "output_type": "execute_result"
    }
   ],
   "source": [
    "imdbDf01.rdd.getNumPartitions()"
   ]
  },
  {
   "cell_type": "code",
   "execution_count": 35,
   "id": "d01ff1ae",
   "metadata": {},
   "outputs": [
    {
     "name": "stderr",
     "output_type": "stream",
     "text": [
      "23/09/22 08:11:17 WARN CSVHeaderChecker: CSV header does not conform to the schema.\n",
      " Header: Rank, Title, Genre, Description, Director, Actors, Year, Runtime (Minutes), Rating, Votes, Revenue (Millions), Metascore\n",
      " Schema: Rank, Title, Genre, Description, Director, Actors, Year, Runtime, Rating, Votes, Revenue_Millions, MetaScore\n",
      "Expected: Runtime but found: Runtime (Minutes)\n",
      "CSV file: file:///home/labuser/Downloads/IMDB-Movie-Data.csv\n"
     ]
    },
    {
     "data": {
      "text/plain": [
       "8"
      ]
     },
     "execution_count": 35,
     "metadata": {},
     "output_type": "execute_result"
    }
   ],
   "source": [
    "newImdbDf = imdbDf01.repartition(8)\n",
    "newImdbDf.rdd.getNumPartitions()"
   ]
  },
  {
   "cell_type": "code",
   "execution_count": 37,
   "id": "a5db4fa8",
   "metadata": {},
   "outputs": [
    {
     "name": "stderr",
     "output_type": "stream",
     "text": [
      "23/09/22 08:13:59 WARN CSVHeaderChecker: CSV header does not conform to the schema.\n",
      " Header: Rank, Title, Genre, Description, Director, Actors, Year, Runtime (Minutes), Rating, Votes, Revenue (Millions), Metascore\n",
      " Schema: Rank, Title, Genre, Description, Director, Actors, Year, Runtime, Rating, Votes, Revenue_Millions, MetaScore\n",
      "Expected: Runtime but found: Runtime (Minutes)\n",
      "CSV file: file:///home/labuser/Downloads/IMDB-Movie-Data.csv\n",
      "                                                                                \r"
     ]
    }
   ],
   "source": [
    "newImdbDf.write.csv(\"/home/labuser/Desktop/out/IMDB01Parts\", mode = \"overwrite\")"
   ]
  },
  {
   "cell_type": "code",
   "execution_count": 38,
   "id": "ccfb0914",
   "metadata": {},
   "outputs": [
    {
     "data": {
      "text/plain": [
       "'http://ip-172-31-0-197.ap-south-1.compute.internal:4040'"
      ]
     },
     "execution_count": 38,
     "metadata": {},
     "output_type": "execute_result"
    }
   ],
   "source": [
    "spark._jsc.sc().uiWebUrl().get()"
   ]
  },
  {
   "cell_type": "code",
   "execution_count": 39,
   "id": "57d48aae",
   "metadata": {},
   "outputs": [],
   "source": [
    "newImdbDf.createOrReplaceTempView(\"imdb\")"
   ]
  },
  {
   "cell_type": "code",
   "execution_count": 40,
   "id": "775742cd",
   "metadata": {},
   "outputs": [],
   "source": [
    "result = spark.sql(\"select * from imdb\")"
   ]
  },
  {
   "cell_type": "code",
   "execution_count": 41,
   "id": "3cfbd3b2",
   "metadata": {},
   "outputs": [
    {
     "data": {
      "text/plain": [
       "pyspark.sql.dataframe.DataFrame"
      ]
     },
     "execution_count": 41,
     "metadata": {},
     "output_type": "execute_result"
    }
   ],
   "source": [
    "type(result)"
   ]
  },
  {
   "cell_type": "code",
   "execution_count": 42,
   "id": "19ab11dd",
   "metadata": {},
   "outputs": [
    {
     "name": "stderr",
     "output_type": "stream",
     "text": [
      "23/09/22 08:14:17 WARN CSVHeaderChecker: CSV header does not conform to the schema.\n",
      " Header: Rank, Title, Genre, Description, Director, Actors, Year, Runtime (Minutes), Rating, Votes, Revenue (Millions), Metascore\n",
      " Schema: Rank, Title, Genre, Description, Director, Actors, Year, Runtime, Rating, Votes, Revenue_Millions, MetaScore\n",
      "Expected: Runtime but found: Runtime (Minutes)\n",
      "CSV file: file:///home/labuser/Downloads/IMDB-Movie-Data.csv\n"
     ]
    },
    {
     "name": "stdout",
     "output_type": "stream",
     "text": [
      "+----+--------------------+--------------------+--------------------+--------------------+--------------------+----+-------+------+-------+----------------+---------+-------------------+--------------------+\n",
      "|Rank|               Title|               Genre|         Description|            Director|              Actors|Year|Runtime|Rating|  Votes|Revenue_Millions|MetaScore|Revenue_In_Millions|   updated_timestamp|\n",
      "+----+--------------------+--------------------+--------------------+--------------------+--------------------+----+-------+------+-------+----------------+---------+-------------------+--------------------+\n",
      "| 610|Hellboy II: The G...|Action,Adventure,...|The mythical worl...|  Guillermo del Toro|Ron Perlman, Selm...|2008|    120|   7.0| 216932|           75.75|     78.0|             7575.0|2023-09-22 08:11:...|\n",
      "|  82|   Captain Fantastic|        Comedy,Drama|In the forests of...|           Matt Ross|Viggo Mortensen, ...|2016|    118|   7.9| 105081|            5.88|     72.0|              588.0|2023-09-22 08:11:...|\n",
      "| 643|    The Ridiculous 6|      Comedy,Western|An outlaw who was...|        Frank Coraci|Adam Sandler, Ter...|2015|    119|   4.8|  31149|            null|     18.0|               null|2023-09-22 08:11:...|\n",
      "| 786|    Captain Phillips|Biography,Drama,T...|The true story of...|     Paul Greengrass|Tom Hanks, Barkha...|2013|    134|   7.8| 346154|           107.1|     83.0|            10710.0|2023-09-22 08:11:...|\n",
      "|  59|        Their Finest|Comedy,Drama,Romance|A former secretar...|       Lone Scherfig|Gemma Arterton, S...|2016|    117|   7.0|   3739|            3.18|     76.0|              318.0|2023-09-22 08:11:...|\n",
      "| 544|     P.S. I Love You|       Drama,Romance|A young widow dis...| Richard LaGravenese|Hilary Swank, Ger...|2007|    126|   7.1| 177247|           53.68|     null|             5368.0|2023-09-22 08:11:...|\n",
      "| 208|            Paterson|Comedy,Drama,Romance|A quiet observati...|        Jim Jarmusch|Adam Driver, Gols...|2016|    118|   7.5|  26089|            2.14|     90.0|              214.0|2023-09-22 08:11:...|\n",
      "| 790|             Hancock|  Action,Crime,Drama|Hancock is a supe...|          Peter Berg|Will Smith, Charl...|2008|     92|   6.4| 366138|          227.95|     49.0|            22795.0|2023-09-22 08:11:...|\n",
      "| 336|       Before I Wake|Drama,Fantasy,Horror|A young couple ad...|       Mike Flanagan|Kate Bosworth, Th...|2016|     97|   6.1|  18201|            null|     null|               null|2023-09-22 08:11:...|\n",
      "| 712|     La tortue rouge|   Animation,Fantasy|A man is shipwrec...|Michael Dudok de Wit|Emmanuel Garijo, ...|2016|     80|   7.6|  11482|            0.92|     86.0|               92.0|2023-09-22 08:11:...|\n",
      "|  93|            The Help|               Drama|An aspiring autho...|         Tate Taylor|Emma Stone, Viola...|2011|    146|   8.1| 342429|          169.71|     62.0|            16971.0|2023-09-22 08:11:...|\n",
      "| 125|The Dark Knight R...|     Action,Thriller|Eight years after...|   Christopher Nolan|Christian Bale, T...|2012|    164|   8.5|1222645|          448.13|     78.0|            44813.0|2023-09-22 08:11:...|\n",
      "| 380|   The Expendables 3|Action,Adventure,...|Barney augments h...|      Patrick Hughes|Sylvester Stallon...|2014|    126|   6.1| 137568|           39.29|     35.0|             3929.0|2023-09-22 08:11:...|\n",
      "| 708|         The Hollars|Comedy,Drama,Romance|A man returns to ...|      John Krasinski|Sharlto Copley, C...|2016|     88|   6.5|   5908|            1.02|     53.0|              102.0|2023-09-22 08:11:...|\n",
      "| 804|Jack Ryan: Shadow...|Action,Drama,Thri...|Jack Ryan, as a y...|     Kenneth Branagh|Chris Pine, Kevin...|2014|    105|   6.2| 103681|           50.55|     57.0|             5055.0|2023-09-22 08:11:...|\n",
      "| 704|           Australia|Adventure,Drama,R...|Set in northern A...|        Baz Luhrmann|Nicole Kidman, Hu...|2008|    165|   6.6| 106115|           49.55|     53.0|             4955.0|2023-09-22 08:11:...|\n",
      "| 874|             One Day|       Drama,Romance|After spending th...|       Lone Scherfig|Anne Hathaway, Ji...|2011|    107|   7.0| 113599|           13.77|     48.0|             1377.0|2023-09-22 08:11:...|\n",
      "|  10|          Passengers|Adventure,Drama,R...|A spacecraft trav...|       Morten Tyldum|Jennifer Lawrence...|2016|    116|   7.0| 192177|          100.01|     41.0|            10001.0|2023-09-22 08:11:...|\n",
      "| 181|Bridget Jones's Baby|      Comedy,Romance|Bridget's focus o...|      Sharon Maguire|Renée Zellweger, ...|2016|    118|   6.7|  43086|           24.09|     59.0|             2409.0|2023-09-22 08:11:...|\n",
      "| 393|          Steve Jobs|     Biography,Drama|Steve Jobs takes ...|         Danny Boyle|Michael Fassbende...|2015|    122|   7.2| 116112|           17.75|     82.0|             1775.0|2023-09-22 08:11:...|\n",
      "+----+--------------------+--------------------+--------------------+--------------------+--------------------+----+-------+------+-------+----------------+---------+-------------------+--------------------+\n",
      "only showing top 20 rows\n",
      "\n"
     ]
    }
   ],
   "source": [
    "result.show()"
   ]
  },
  {
   "cell_type": "code",
   "execution_count": 43,
   "id": "3247f11c",
   "metadata": {},
   "outputs": [
    {
     "name": "stderr",
     "output_type": "stream",
     "text": [
      "23/09/22 08:14:17 WARN CSVHeaderChecker: CSV header does not conform to the schema.\n",
      " Header: Rank, Title, Genre, Description, Director, Actors, Year, Runtime (Minutes), Rating, Votes, Revenue (Millions), Metascore\n",
      " Schema: Rank, Title, Genre, Description, Director, Actors, Year, Runtime, Rating, Votes, Revenue_Millions, MetaScore\n",
      "Expected: Runtime but found: Runtime (Minutes)\n",
      "CSV file: file:///home/labuser/Downloads/IMDB-Movie-Data.csv\n"
     ]
    },
    {
     "name": "stdout",
     "output_type": "stream",
     "text": [
      "+----+--------------------+--------------------+--------------------+--------------------+--------------------+----+-------+------+------+----------------+---------+-------------------+--------------------+\n",
      "|Rank|               Title|               Genre|         Description|            Director|              Actors|Year|Runtime|Rating| Votes|Revenue_Millions|MetaScore|Revenue_In_Millions|   updated_timestamp|\n",
      "+----+--------------------+--------------------+--------------------+--------------------+--------------------+----+-------+------+------+----------------+---------+-------------------+--------------------+\n",
      "|  75|            Zootopia|Animation,Adventu...|In a city of anth...|        Byron Howard|Ginnifer Goodwin,...|2016|    108|   8.1|296853|          341.26|     78.0|            34126.0|2023-09-22 08:11:...|\n",
      "| 432|         Zoolander 2|              Comedy|Derek and Hansel ...|         Ben Stiller|Ben Stiller, Owen...|2016|    102|   4.7| 48297|           28.84|     34.0|             2884.0|2023-09-22 08:11:...|\n",
      "| 364|          Zombieland|Adventure,Comedy,...|A shy student try...|     Ruben Fleischer|Jesse Eisenberg, ...|2009|     88|   7.7|409403|           75.59|     73.0|             7559.0|2023-09-22 08:11:...|\n",
      "| 278|              Zodiac| Crime,Drama,History|In the late 1960s...|       David Fincher|Jake Gyllenhaal, ...|2007|    157|   7.7|329683|           33.05|     78.0| 3304.9999999999995|2023-09-22 08:11:...|\n",
      "| 545|              Zipper|      Drama,Thriller|A successful fami...|       Mora Stephens|Patrick Wilson, L...|2015|    103|   5.7|  4912|            null|     39.0|               null|2023-09-22 08:11:...|\n",
      "| 407|    Zero Dark Thirty|Drama,History,Thr...|A chronicle of th...|     Kathryn Bigelow|Jessica Chastain,...|2012|    157|   7.4|226661|           95.72|     95.0|             9572.0|2023-09-22 08:11:...|\n",
      "| 793|Zack and Miri Mak...|      Comedy,Romance|Lifelong platonic...|         Kevin Smith|Seth Rogen, Eliza...|2008|    101|   6.6|154936|           31.45|     56.0|             3145.0|2023-09-22 08:11:...|\n",
      "| 504|               Youth|  Comedy,Drama,Music|A retired orchest...|    Paolo Sorrentino|Michael Caine, Ha...|2015|    124|   7.3| 52636|             2.7|     64.0|              270.0|2023-09-22 08:11:...|\n",
      "| 986|       Your Highness|Adventure,Comedy,...|When Prince Fabio...|  David Gordon Green|Danny McBride, Na...|2011|    102|   5.6| 87904|           21.56|     31.0|             2156.0|2023-09-22 08:11:...|\n",
      "| 838|You Don't Mess wi...|       Action,Comedy|An Israeli Specia...|        Dennis Dugan|Adam Sandler, Joh...|2008|    113|   5.5|163144|          100.02|     54.0|            10002.0|2023-09-22 08:11:...|\n",
      "| 801|         Yoga Hosers|Comedy,Fantasy,Ho...|Two teenage yoga ...|         Kevin Smith|Lily-Rose Depp, H...|2016|     88|   4.3|  7091|            null|     23.0|               null|2023-09-22 08:11:...|\n",
      "| 206|      X: First Class|Action,Adventure,...|In 1962, the Unit...|      Matthew Vaughn|James McAvoy, Mic...|2011|    132|   7.8|550011|          146.41|     65.0|            14641.0|2023-09-22 08:11:...|\n",
      "| 627|X-Men: The Last S...|Action,Adventure,...|When a cure is fo...|        Brett Ratner|Patrick Stewart, ...|2006|    104|   6.7|406540|          234.36|     58.0|            23436.0|2023-09-22 08:11:...|\n",
      "| 163|X-Men: Days of Fu...|Action,Adventure,...|The X-Men send Wo...|        Bryan Singer|Patrick Stewart, ...|2014|    132|   8.0|552298|          233.91|     74.0|            23391.0|2023-09-22 08:11:...|\n",
      "|  33|   X-Men: Apocalypse|Action,Adventure,...|After the re-emer...|        Bryan Singer|James McAvoy, Mic...|2016|    144|   7.1|275510|          155.33|     52.0| 15533.000000000002|2023-09-22 08:11:...|\n",
      "| 269|X-Men Origins: Wo...|Action,Adventure,...|A look at Wolveri...|          Gavin Hood|Hugh Jackman, Lie...|2009|    107|   6.7|388447|          179.88|     40.0|            17988.0|2023-09-22 08:11:...|\n",
      "| 969|             Wrecker|Action,Horror,Thr...|\"Best friends Emi...|\"\" they become th...|      Micheal Bafaro|null|   2015|  83.0|  null|          1210.0|     null|           121000.0|2023-09-22 08:11:...|\n",
      "| 564|      Wreck-It Ralph|Animation,Adventu...|A video game vill...|          Rich Moore|John C. Reilly, J...|2012|    101|   7.8|290559|          189.41|     72.0|            18941.0|2023-09-22 08:11:...|\n",
      "| 880| Wrath of the Titans|Action,Adventure,...|Perseus braves th...|  Jonathan Liebesman|Sam Worthington, ...|2012|     99|   5.8|159230|           83.64|     37.0|             8364.0|2023-09-22 08:11:...|\n",
      "| 433|         World War Z|Action,Adventure,...|Former United Nat...|        Marc Forster|Brad Pitt, Mireil...|2013|    116|   7.0|494819|          202.35|     63.0|            20235.0|2023-09-22 08:11:...|\n",
      "+----+--------------------+--------------------+--------------------+--------------------+--------------------+----+-------+------+------+----------------+---------+-------------------+--------------------+\n",
      "only showing top 20 rows\n",
      "\n"
     ]
    }
   ],
   "source": [
    "testImdbTransform1 = newImdbDf.sort(col(\"title\").desc())\n",
    "testImdbTransform1.show()"
   ]
  },
  {
   "cell_type": "code",
   "execution_count": 44,
   "id": "c752513e",
   "metadata": {},
   "outputs": [
    {
     "name": "stdout",
     "output_type": "stream",
     "text": [
      "+----+--------------------+--------------------+\n",
      "|Rank|               Title|   updated_timestamp|\n",
      "+----+--------------------+--------------------+\n",
      "|   1|Guardians of the ...|2023-09-22 08:11:...|\n",
      "|   2|          Prometheus|2023-09-22 08:11:...|\n",
      "|   3|               Split|2023-09-22 08:11:...|\n",
      "|   4|                Sing|2023-09-22 08:11:...|\n",
      "|   5|       Suicide Squad|2023-09-22 08:11:...|\n",
      "|   6|      The Great Wall|2023-09-22 08:11:...|\n",
      "|   7|          La La Land|2023-09-22 08:11:...|\n",
      "|   8|            Mindhorn|2023-09-22 08:11:...|\n",
      "|   9|  The Lost City of Z|2023-09-22 08:11:...|\n",
      "|  10|          Passengers|2023-09-22 08:11:...|\n",
      "|  11|Fantastic Beasts ...|2023-09-22 08:11:...|\n",
      "|  12|      Hidden Figures|2023-09-22 08:11:...|\n",
      "|  13|           Rogue One|2023-09-22 08:11:...|\n",
      "|  14|               Moana|2023-09-22 08:11:...|\n",
      "|  15|            Colossal|2023-09-22 08:11:...|\n",
      "|  16|The Secret Life o...|2023-09-22 08:11:...|\n",
      "|  17|       Hacksaw Ridge|2023-09-22 08:11:...|\n",
      "|  18|        Jason Bourne|2023-09-22 08:11:...|\n",
      "|  19|                Lion|2023-09-22 08:11:...|\n",
      "|  20|             Arrival|2023-09-22 08:11:...|\n",
      "+----+--------------------+--------------------+\n",
      "only showing top 20 rows\n",
      "\n"
     ]
    }
   ],
   "source": [
    "df = imdbDf01.select('Rank', 'Title', 'updated_timestamp')\n",
    "df.show()"
   ]
  },
  {
   "cell_type": "code",
   "execution_count": 45,
   "id": "4bbedf5e",
   "metadata": {},
   "outputs": [
    {
     "name": "stdout",
     "output_type": "stream",
     "text": [
      "+----------+--------------------+\n",
      "|      test|               Title|\n",
      "+----------+--------------------+\n",
      "|2023-09-22|Guardians of the ...|\n",
      "|2023-09-22|          Prometheus|\n",
      "|2023-09-22|               Split|\n",
      "|2023-09-22|                Sing|\n",
      "|2023-09-22|       Suicide Squad|\n",
      "|2023-09-22|      The Great Wall|\n",
      "|2023-09-22|          La La Land|\n",
      "|2023-09-22|            Mindhorn|\n",
      "|2023-09-22|  The Lost City of Z|\n",
      "|2023-09-22|          Passengers|\n",
      "|2023-09-22|Fantastic Beasts ...|\n",
      "|2023-09-22|      Hidden Figures|\n",
      "|2023-09-22|           Rogue One|\n",
      "|2023-09-22|               Moana|\n",
      "|2023-09-22|            Colossal|\n",
      "|2023-09-22|The Secret Life o...|\n",
      "|2023-09-22|       Hacksaw Ridge|\n",
      "|2023-09-22|        Jason Bourne|\n",
      "|2023-09-22|                Lion|\n",
      "|2023-09-22|             Arrival|\n",
      "+----------+--------------------+\n",
      "only showing top 20 rows\n",
      "\n"
     ]
    }
   ],
   "source": [
    "df = df.selectExpr('CAST(updated_timestamp AS DATE) AS test', 'Title')\n",
    "df.show()"
   ]
  },
  {
   "cell_type": "code",
   "execution_count": 46,
   "id": "ff561fa4",
   "metadata": {},
   "outputs": [
    {
     "name": "stdout",
     "output_type": "stream",
     "text": [
      "+----------+--------------------+--------------------+\n",
      "|      test|               Title|          movie_name|\n",
      "+----------+--------------------+--------------------+\n",
      "|2023-09-22|Guardians of the ...|Guardians of the ...|\n",
      "|2023-09-22|          Prometheus|          Prometheus|\n",
      "|2023-09-22|               Split|               Split|\n",
      "|2023-09-22|                Sing|                Sing|\n",
      "|2023-09-22|       Suicide Squad|       Suicide Squad|\n",
      "|2023-09-22|      The Great Wall|      The Great Wall|\n",
      "|2023-09-22|          La La Land|          La La Land|\n",
      "|2023-09-22|            Mindhorn|            Mindhorn|\n",
      "|2023-09-22|  The Lost City of Z|  The Lost City of Z|\n",
      "|2023-09-22|          Passengers|          Passengers|\n",
      "|2023-09-22|Fantastic Beasts ...|Fantastic Beasts ...|\n",
      "|2023-09-22|      Hidden Figures|      Hidden Figures|\n",
      "|2023-09-22|           Rogue One|           Rogue One|\n",
      "|2023-09-22|               Moana|               Moana|\n",
      "|2023-09-22|            Colossal|            Colossal|\n",
      "|2023-09-22|The Secret Life o...|The Secret Life o...|\n",
      "|2023-09-22|       Hacksaw Ridge|       Hacksaw Ridge|\n",
      "|2023-09-22|        Jason Bourne|        Jason Bourne|\n",
      "|2023-09-22|                Lion|                Lion|\n",
      "|2023-09-22|             Arrival|             Arrival|\n",
      "+----------+--------------------+--------------------+\n",
      "only showing top 20 rows\n",
      "\n"
     ]
    }
   ],
   "source": [
    "df = df.withColumn('movie_name', lit(df.Title))\n",
    "df.show()"
   ]
  },
  {
   "cell_type": "code",
   "execution_count": 47,
   "id": "d73a1583",
   "metadata": {},
   "outputs": [
    {
     "name": "stdout",
     "output_type": "stream",
     "text": [
      "+--------------------+\n",
      "|           MovieName|\n",
      "+--------------------+\n",
      "|Guardians of the ...|\n",
      "|          Prometheus|\n",
      "|               Split|\n",
      "|                Sing|\n",
      "|       Suicide Squad|\n",
      "|      The Great Wall|\n",
      "|          La La Land|\n",
      "|            Mindhorn|\n",
      "|  The Lost City of Z|\n",
      "|          Passengers|\n",
      "|Fantastic Beasts ...|\n",
      "|      Hidden Figures|\n",
      "|           Rogue One|\n",
      "|               Moana|\n",
      "|            Colossal|\n",
      "|The Secret Life o...|\n",
      "|       Hacksaw Ridge|\n",
      "|        Jason Bourne|\n",
      "|                Lion|\n",
      "|             Arrival|\n",
      "+--------------------+\n",
      "only showing top 20 rows\n",
      "\n"
     ]
    }
   ],
   "source": [
    "df_test_alias = df.select(col(\"Title\").alias(\"MovieName\"))\n",
    "df_test_alias.show()"
   ]
  },
  {
   "cell_type": "code",
   "execution_count": 48,
   "id": "be2051ee",
   "metadata": {},
   "outputs": [
    {
     "data": {
      "text/plain": [
       "999"
      ]
     },
     "execution_count": 48,
     "metadata": {},
     "output_type": "execute_result"
    }
   ],
   "source": [
    "newDfTest = df.dropDuplicates([\"test\", \"Title\"])\n",
    "newDfTest.count()"
   ]
  },
  {
   "cell_type": "code",
   "execution_count": 49,
   "id": "5ac9ac4c",
   "metadata": {
    "scrolled": true
   },
   "outputs": [
    {
     "name": "stdout",
     "output_type": "stream",
     "text": [
      "+----+--------------------+--------------------+--------------------+--------------------+--------------------+----+-------+------+------+----------------+---------+-------------------+--------------------+------+\n",
      "|Rank|               Title|               Genre|         Description|            Director|              Actors|Year|Runtime|Rating| Votes|Revenue_Millions|MetaScore|Revenue_In_Millions|   updated_timestamp|Review|\n",
      "+----+--------------------+--------------------+--------------------+--------------------+--------------------+----+-------+------+------+----------------+---------+-------------------+--------------------+------+\n",
      "|   1|Guardians of the ...|Action,Adventure,...|A group of interg...|          James Gunn|Chris Pratt, Vin ...|2014|    121|   8.1|757074|          333.13|     76.0|            33313.0|2023-09-22 08:11:...|  Good|\n",
      "|   2|          Prometheus|Adventure,Mystery...|Following clues t...|        Ridley Scott|Noomi Rapace, Log...|2012|    124|   7.0|485820|          126.46|     65.0|            12646.0|2023-09-22 08:11:...|  Good|\n",
      "|   3|               Split|     Horror,Thriller|Three girls are k...|  M. Night Shyamalan|James McAvoy, Any...|2016|    117|   7.3|157606|          138.12|     62.0|            13812.0|2023-09-22 08:11:...|  Good|\n",
      "|   4|                Sing|Animation,Comedy,...|In a city of huma...|Christophe Lourdelet|Matthew McConaugh...|2016|    108|   7.2| 60545|          270.32|     59.0|            27032.0|2023-09-22 08:11:...|  Good|\n",
      "|   5|       Suicide Squad|Action,Adventure,...|A secret governme...|          David Ayer|Will Smith, Jared...|2016|    123|   6.2|393727|          325.02|     40.0|            32502.0|2023-09-22 08:11:...|  Good|\n",
      "|   6|      The Great Wall|Action,Adventure,...|European mercenar...|         Yimou Zhang|Matt Damon, Tian ...|2016|    103|   6.1| 56036|           45.13|     42.0|             4513.0|2023-09-22 08:11:...|  Good|\n",
      "|   7|          La La Land|  Comedy,Drama,Music|A jazz pianist fa...|     Damien Chazelle|Ryan Gosling, Emm...|2016|    128|   8.3|258682|          151.06|     93.0|            15106.0|2023-09-22 08:11:...|  Good|\n",
      "|   8|            Mindhorn|              Comedy|\"A has-been actor...| whom he believes...|          Sean Foley|null|   2016|  89.0|  null|          2490.0|     null|           249000.0|2023-09-22 08:11:...|  Good|\n",
      "|   9|  The Lost City of Z|Action,Adventure,...|A true-life drama...|          James Gray|Charlie Hunnam, R...|2016|    141|   7.1|  7188|            8.01|     78.0|              801.0|2023-09-22 08:11:...|  Good|\n",
      "|  10|          Passengers|Adventure,Drama,R...|A spacecraft trav...|       Morten Tyldum|Jennifer Lawrence...|2016|    116|   7.0|192177|          100.01|     41.0|            10001.0|2023-09-22 08:11:...|  Good|\n",
      "|  11|Fantastic Beasts ...|Adventure,Family,...|The adventures of...|         David Yates|Eddie Redmayne, K...|2016|    133|   7.5|232072|          234.02|     66.0|            23402.0|2023-09-22 08:11:...|  Good|\n",
      "|  12|      Hidden Figures|Biography,Drama,H...|The story of a te...|      Theodore Melfi|Taraji P. Henson,...|2016|    127|   7.8| 93103|          169.27|     74.0|            16927.0|2023-09-22 08:11:...|  Good|\n",
      "|  13|           Rogue One|Action,Adventure,...|The Rebel Allianc...|      Gareth Edwards|Felicity Jones, D...|2016|    133|   7.9|323118|          532.17|     65.0|  53216.99999999999|2023-09-22 08:11:...|  Good|\n",
      "|  14|               Moana|Animation,Adventu...|In Ancient Polyne...|        Ron Clements|Auli'i Cravalho, ...|2016|    107|   7.7|118151|          248.75|     81.0|            24875.0|2023-09-22 08:11:...|  Good|\n",
      "|  15|            Colossal| Action,Comedy,Drama|Gloria is an out-...|     Nacho Vigalondo|Anne Hathaway, Ja...|2016|    109|   6.4|  8612|            2.87|     70.0|              287.0|2023-09-22 08:11:...|  Good|\n",
      "|  16|The Secret Life o...|Animation,Adventu...|The quiet life of...|        Chris Renaud|Louis C.K., Eric ...|2016|     87|   6.6|120259|          368.31|     61.0|            36831.0|2023-09-22 08:11:...|  Good|\n",
      "|  17|       Hacksaw Ridge|Biography,Drama,H...|WWII American Arm...|          Mel Gibson|Andrew Garfield, ...|2016|    139|   8.2|211760|           67.12|     71.0|             6712.0|2023-09-22 08:11:...|  Good|\n",
      "|  18|        Jason Bourne|     Action,Thriller|The CIA's most da...|     Paul Greengrass|Matt Damon, Tommy...|2016|    123|   6.7|150823|          162.16|     58.0|            16216.0|2023-09-22 08:11:...|  Good|\n",
      "|  19|                Lion|     Biography,Drama|A five-year-old I...|         Garth Davis|Dev Patel, Nicole...|2016|    118|   8.1|102061|           51.69|     69.0|             5169.0|2023-09-22 08:11:...|  Good|\n",
      "|  20|             Arrival|Drama,Mystery,Sci-Fi|When twelve myste...|    Denis Villeneuve|Amy Adams, Jeremy...|2016|    116|   8.0|340798|           100.5|     81.0|            10050.0|2023-09-22 08:11:...|  Good|\n",
      "+----+--------------------+--------------------+--------------------+--------------------+--------------------+----+-------+------+------+----------------+---------+-------------------+--------------------+------+\n",
      "only showing top 20 rows\n",
      "\n"
     ]
    },
    {
     "name": "stderr",
     "output_type": "stream",
     "text": [
      "23/09/22 08:14:20 WARN CSVHeaderChecker: CSV header does not conform to the schema.\n",
      " Header: Rank, Title, Genre, Description, Director, Actors, Year, Runtime (Minutes), Rating, Votes, Revenue (Millions), Metascore\n",
      " Schema: Rank, Title, Genre, Description, Director, Actors, Year, Runtime, Rating, Votes, Revenue_Millions, MetaScore\n",
      "Expected: Runtime but found: Runtime (Minutes)\n",
      "CSV file: file:///home/labuser/Downloads/IMDB-Movie-Data.csv\n"
     ]
    }
   ],
   "source": [
    "imdbNewCol = imdbDf01.withColumn(\"Review\", when(col(\"Rating\") < 2, \"Bad\").when(col(\"Rating\") >= 5, \"Good\").when(col(\"Rating\") > 8, \"Very Good\").otherwise(\"Good\"))\n",
    "imdbNewCol.show()"
   ]
  },
  {
   "cell_type": "code",
   "execution_count": 50,
   "id": "34b5f1c5",
   "metadata": {},
   "outputs": [
    {
     "name": "stdout",
     "output_type": "stream",
     "text": [
      "+------+\n",
      "|Review|\n",
      "+------+\n",
      "|  Good|\n",
      "|  Good|\n",
      "|  Good|\n",
      "|  Good|\n",
      "|  Good|\n",
      "|  Good|\n",
      "|  Good|\n",
      "|  Good|\n",
      "|  Good|\n",
      "|  Good|\n",
      "|  Good|\n",
      "|  Good|\n",
      "|  Good|\n",
      "|  Good|\n",
      "|  Good|\n",
      "|  Good|\n",
      "|  Good|\n",
      "|  Good|\n",
      "|  Good|\n",
      "|  Good|\n",
      "+------+\n",
      "only showing top 20 rows\n",
      "\n"
     ]
    }
   ],
   "source": [
    "imdbNewCol.select(\"Review\").show()"
   ]
  },
  {
   "cell_type": "code",
   "execution_count": 51,
   "id": "84c5651b",
   "metadata": {},
   "outputs": [
    {
     "name": "stdout",
     "output_type": "stream",
     "text": [
      "+----+--------------------+--------------------+--------------------+--------------------+--------------------+----+-------+------+------+----------------+---------+-------------------+--------------------+------+\n",
      "|Rank|               Title|               Genre|         Description|            Director|              Actors|Year|Runtime|Rating| Votes|Revenue_Millions|MetaScore|Revenue_In_Millions|   updated_timestamp|Review|\n",
      "+----+--------------------+--------------------+--------------------+--------------------+--------------------+----+-------+------+------+----------------+---------+-------------------+--------------------+------+\n",
      "|   1|Guardians of the ...|Action,Adventure,...|A group of interg...|          James Gunn|Chris Pratt, Vin ...|2014|    121|   8.1|757074|          333.13|     76.0|            33313.0|2023-09-22 08:11:...|  Good|\n",
      "|   2|          Prometheus|Adventure,Mystery...|Following clues t...|        Ridley Scott|Noomi Rapace, Log...|2012|    124|   7.0|485820|          126.46|     65.0|            12646.0|2023-09-22 08:11:...|  Good|\n",
      "|   3|               Split|     Horror,Thriller|Three girls are k...|  M. Night Shyamalan|James McAvoy, Any...|2016|    117|   7.3|157606|          138.12|     62.0|            13812.0|2023-09-22 08:11:...|  Good|\n",
      "|   4|                Sing|Animation,Comedy,...|In a city of huma...|Christophe Lourdelet|Matthew McConaugh...|2016|    108|   7.2| 60545|          270.32|     59.0|            27032.0|2023-09-22 08:11:...|  Good|\n",
      "|   5|       Suicide Squad|Action,Adventure,...|A secret governme...|          David Ayer|Will Smith, Jared...|2016|    123|   6.2|393727|          325.02|     40.0|            32502.0|2023-09-22 08:11:...|  Good|\n",
      "|   6|      The Great Wall|Action,Adventure,...|European mercenar...|         Yimou Zhang|Matt Damon, Tian ...|2016|    103|   6.1| 56036|           45.13|     42.0|             4513.0|2023-09-22 08:11:...|  Good|\n",
      "|   7|          La La Land|  Comedy,Drama,Music|A jazz pianist fa...|     Damien Chazelle|Ryan Gosling, Emm...|2016|    128|   8.3|258682|          151.06|     93.0|            15106.0|2023-09-22 08:11:...|  Good|\n",
      "|   8|            Mindhorn|              Comedy|\"A has-been actor...| whom he believes...|          Sean Foley|null|   2016|  89.0|  null|          2490.0|     null|           249000.0|2023-09-22 08:11:...|  Good|\n",
      "|   9|  The Lost City of Z|Action,Adventure,...|A true-life drama...|          James Gray|Charlie Hunnam, R...|2016|    141|   7.1|  7188|            8.01|     78.0|              801.0|2023-09-22 08:11:...|  Good|\n",
      "|  10|          Passengers|Adventure,Drama,R...|A spacecraft trav...|       Morten Tyldum|Jennifer Lawrence...|2016|    116|   7.0|192177|          100.01|     41.0|            10001.0|2023-09-22 08:11:...|  Good|\n",
      "|  11|Fantastic Beasts ...|Adventure,Family,...|The adventures of...|         David Yates|Eddie Redmayne, K...|2016|    133|   7.5|232072|          234.02|     66.0|            23402.0|2023-09-22 08:11:...|  Good|\n",
      "|  12|      Hidden Figures|Biography,Drama,H...|The story of a te...|      Theodore Melfi|Taraji P. Henson,...|2016|    127|   7.8| 93103|          169.27|     74.0|            16927.0|2023-09-22 08:11:...|  Good|\n",
      "|  13|           Rogue One|Action,Adventure,...|The Rebel Allianc...|      Gareth Edwards|Felicity Jones, D...|2016|    133|   7.9|323118|          532.17|     65.0|  53216.99999999999|2023-09-22 08:11:...|  Good|\n",
      "|  14|               Moana|Animation,Adventu...|In Ancient Polyne...|        Ron Clements|Auli'i Cravalho, ...|2016|    107|   7.7|118151|          248.75|     81.0|            24875.0|2023-09-22 08:11:...|  Good|\n",
      "|  15|            Colossal| Action,Comedy,Drama|Gloria is an out-...|     Nacho Vigalondo|Anne Hathaway, Ja...|2016|    109|   6.4|  8612|            2.87|     70.0|              287.0|2023-09-22 08:11:...|  Good|\n",
      "|  16|The Secret Life o...|Animation,Adventu...|The quiet life of...|        Chris Renaud|Louis C.K., Eric ...|2016|     87|   6.6|120259|          368.31|     61.0|            36831.0|2023-09-22 08:11:...|  Good|\n",
      "|  17|       Hacksaw Ridge|Biography,Drama,H...|WWII American Arm...|          Mel Gibson|Andrew Garfield, ...|2016|    139|   8.2|211760|           67.12|     71.0|             6712.0|2023-09-22 08:11:...|  Good|\n",
      "|  18|        Jason Bourne|     Action,Thriller|The CIA's most da...|     Paul Greengrass|Matt Damon, Tommy...|2016|    123|   6.7|150823|          162.16|     58.0|            16216.0|2023-09-22 08:11:...|  Good|\n",
      "|  19|                Lion|     Biography,Drama|A five-year-old I...|         Garth Davis|Dev Patel, Nicole...|2016|    118|   8.1|102061|           51.69|     69.0|             5169.0|2023-09-22 08:11:...|  Good|\n",
      "|  20|             Arrival|Drama,Mystery,Sci-Fi|When twelve myste...|    Denis Villeneuve|Amy Adams, Jeremy...|2016|    116|   8.0|340798|           100.5|     81.0|            10050.0|2023-09-22 08:11:...|  Good|\n",
      "+----+--------------------+--------------------+--------------------+--------------------+--------------------+----+-------+------+------+----------------+---------+-------------------+--------------------+------+\n",
      "only showing top 20 rows\n",
      "\n"
     ]
    },
    {
     "name": "stderr",
     "output_type": "stream",
     "text": [
      "23/09/22 08:14:21 WARN CSVHeaderChecker: CSV header does not conform to the schema.\n",
      " Header: Rank, Title, Genre, Description, Director, Actors, Year, Runtime (Minutes), Rating, Votes, Revenue (Millions), Metascore\n",
      " Schema: Rank, Title, Genre, Description, Director, Actors, Year, Runtime, Rating, Votes, Revenue_Millions, MetaScore\n",
      "Expected: Runtime but found: Runtime (Minutes)\n",
      "CSV file: file:///home/labuser/Downloads/IMDB-Movie-Data.csv\n"
     ]
    }
   ],
   "source": [
    "imdbNewCol02 = imdbDf01.withColumn(\"Review\", when(col(\"Rating\") < 2, \"Bad\").when((col(\"Rating\") <= 5) & (col(\"Rating\") >= 2), \"Average\").when(col(\"Rating\") > 8, \"Very Good\").otherwise(\"Good\"))\n",
    "imdbNewCol.show()"
   ]
  },
  {
   "cell_type": "code",
   "execution_count": 52,
   "id": "65940c05",
   "metadata": {},
   "outputs": [
    {
     "name": "stdout",
     "output_type": "stream",
     "text": [
      "+---------+------+\n",
      "|   Review|Rating|\n",
      "+---------+------+\n",
      "|Very Good|   8.1|\n",
      "|     Good|   7.0|\n",
      "|     Good|   7.3|\n",
      "|     Good|   7.2|\n",
      "|     Good|   6.2|\n",
      "|     Good|   6.1|\n",
      "|Very Good|   8.3|\n",
      "|Very Good|  89.0|\n",
      "|     Good|   7.1|\n",
      "|     Good|   7.0|\n",
      "|     Good|   7.5|\n",
      "|     Good|   7.8|\n",
      "|     Good|   7.9|\n",
      "|     Good|   7.7|\n",
      "|     Good|   6.4|\n",
      "|     Good|   6.6|\n",
      "|Very Good|   8.2|\n",
      "|     Good|   6.7|\n",
      "|Very Good|   8.1|\n",
      "|     Good|   8.0|\n",
      "+---------+------+\n",
      "only showing top 20 rows\n",
      "\n"
     ]
    }
   ],
   "source": [
    "imdbNewCol02.select(\"Review\", \"Rating\").show()"
   ]
  },
  {
   "cell_type": "code",
   "execution_count": 53,
   "id": "7ab357e2",
   "metadata": {},
   "outputs": [
    {
     "name": "stdout",
     "output_type": "stream",
     "text": [
      "+--------------------+\n",
      "|           MoviePart|\n",
      "+--------------------+\n",
      "|Guardians of the ...|\n",
      "|      Prometheus2012|\n",
      "|           Split2016|\n",
      "|            Sing2016|\n",
      "|   Suicide Squad2016|\n",
      "|  The Great Wall2016|\n",
      "|      La La Land2016|\n",
      "|                null|\n",
      "|The Lost City of ...|\n",
      "|      Passengers2016|\n",
      "|Fantastic Beasts ...|\n",
      "|  Hidden Figures2016|\n",
      "|       Rogue One2016|\n",
      "|           Moana2016|\n",
      "|        Colossal2016|\n",
      "|The Secret Life o...|\n",
      "|   Hacksaw Ridge2016|\n",
      "|    Jason Bourne2016|\n",
      "|            Lion2016|\n",
      "|         Arrival2016|\n",
      "+--------------------+\n",
      "only showing top 20 rows\n",
      "\n"
     ]
    }
   ],
   "source": [
    "imdbNewCol03 = imdbDf01.withColumn(\"MoviePart\", lit(concat(col(\"Title\"), col(\"Year\"))))\n",
    "imdbNewCol03.select(\"MoviePart\").show()"
   ]
  },
  {
   "cell_type": "code",
   "execution_count": 54,
   "id": "4596320d",
   "metadata": {},
   "outputs": [],
   "source": [
    "def concat_shell(column):\n",
    "    return column + \"_shell\"\n",
    "\n",
    "my_udf = udf(concat_shell, StringType())"
   ]
  },
  {
   "cell_type": "code",
   "execution_count": 56,
   "id": "a4d09867",
   "metadata": {},
   "outputs": [],
   "source": [
    "testImdb = imdbDf01.withColumn(\"NewCol\", my_udf(col(\"Title\")))"
   ]
  },
  {
   "cell_type": "code",
   "execution_count": 57,
   "id": "151197a6",
   "metadata": {
    "scrolled": true
   },
   "outputs": [
    {
     "name": "stderr",
     "output_type": "stream",
     "text": [
      "23/09/22 08:16:07 WARN CSVHeaderChecker: CSV header does not conform to the schema.\n",
      " Header: Rank, Title, Genre, Description, Director, Actors, Year, Runtime (Minutes), Rating, Votes, Revenue (Millions), Metascore\n",
      " Schema: Rank, Title, Genre, Description, Director, Actors, Year, Runtime, Rating, Votes, Revenue_Millions, MetaScore\n",
      "Expected: Runtime but found: Runtime (Minutes)\n",
      "CSV file: file:///home/labuser/Downloads/IMDB-Movie-Data.csv\n",
      "                                                                                \r"
     ]
    },
    {
     "name": "stdout",
     "output_type": "stream",
     "text": [
      "+----+--------------------+--------------------+--------------------+--------------------+--------------------+----+-------+------+------+----------------+---------+-------------------+--------------------+--------------------+\n",
      "|Rank|               Title|               Genre|         Description|            Director|              Actors|Year|Runtime|Rating| Votes|Revenue_Millions|MetaScore|Revenue_In_Millions|   updated_timestamp|              NewCol|\n",
      "+----+--------------------+--------------------+--------------------+--------------------+--------------------+----+-------+------+------+----------------+---------+-------------------+--------------------+--------------------+\n",
      "|   1|Guardians of the ...|Action,Adventure,...|A group of interg...|          James Gunn|Chris Pratt, Vin ...|2014|    121|   8.1|757074|          333.13|     76.0|            33313.0|2023-09-22 08:11:...|Guardians of the ...|\n",
      "|   2|          Prometheus|Adventure,Mystery...|Following clues t...|        Ridley Scott|Noomi Rapace, Log...|2012|    124|   7.0|485820|          126.46|     65.0|            12646.0|2023-09-22 08:11:...|    Prometheus_shell|\n",
      "|   3|               Split|     Horror,Thriller|Three girls are k...|  M. Night Shyamalan|James McAvoy, Any...|2016|    117|   7.3|157606|          138.12|     62.0|            13812.0|2023-09-22 08:11:...|         Split_shell|\n",
      "|   4|                Sing|Animation,Comedy,...|In a city of huma...|Christophe Lourdelet|Matthew McConaugh...|2016|    108|   7.2| 60545|          270.32|     59.0|            27032.0|2023-09-22 08:11:...|          Sing_shell|\n",
      "|   5|       Suicide Squad|Action,Adventure,...|A secret governme...|          David Ayer|Will Smith, Jared...|2016|    123|   6.2|393727|          325.02|     40.0|            32502.0|2023-09-22 08:11:...| Suicide Squad_shell|\n",
      "|   6|      The Great Wall|Action,Adventure,...|European mercenar...|         Yimou Zhang|Matt Damon, Tian ...|2016|    103|   6.1| 56036|           45.13|     42.0|             4513.0|2023-09-22 08:11:...|The Great Wall_shell|\n",
      "|   7|          La La Land|  Comedy,Drama,Music|A jazz pianist fa...|     Damien Chazelle|Ryan Gosling, Emm...|2016|    128|   8.3|258682|          151.06|     93.0|            15106.0|2023-09-22 08:11:...|    La La Land_shell|\n",
      "|   8|            Mindhorn|              Comedy|\"A has-been actor...| whom he believes...|          Sean Foley|null|   2016|  89.0|  null|          2490.0|     null|           249000.0|2023-09-22 08:11:...|      Mindhorn_shell|\n",
      "|   9|  The Lost City of Z|Action,Adventure,...|A true-life drama...|          James Gray|Charlie Hunnam, R...|2016|    141|   7.1|  7188|            8.01|     78.0|              801.0|2023-09-22 08:11:...|The Lost City of ...|\n",
      "|  10|          Passengers|Adventure,Drama,R...|A spacecraft trav...|       Morten Tyldum|Jennifer Lawrence...|2016|    116|   7.0|192177|          100.01|     41.0|            10001.0|2023-09-22 08:11:...|    Passengers_shell|\n",
      "|  11|Fantastic Beasts ...|Adventure,Family,...|The adventures of...|         David Yates|Eddie Redmayne, K...|2016|    133|   7.5|232072|          234.02|     66.0|            23402.0|2023-09-22 08:11:...|Fantastic Beasts ...|\n",
      "|  12|      Hidden Figures|Biography,Drama,H...|The story of a te...|      Theodore Melfi|Taraji P. Henson,...|2016|    127|   7.8| 93103|          169.27|     74.0|            16927.0|2023-09-22 08:11:...|Hidden Figures_shell|\n",
      "|  13|           Rogue One|Action,Adventure,...|The Rebel Allianc...|      Gareth Edwards|Felicity Jones, D...|2016|    133|   7.9|323118|          532.17|     65.0|  53216.99999999999|2023-09-22 08:11:...|     Rogue One_shell|\n",
      "|  14|               Moana|Animation,Adventu...|In Ancient Polyne...|        Ron Clements|Auli'i Cravalho, ...|2016|    107|   7.7|118151|          248.75|     81.0|            24875.0|2023-09-22 08:11:...|         Moana_shell|\n",
      "|  15|            Colossal| Action,Comedy,Drama|Gloria is an out-...|     Nacho Vigalondo|Anne Hathaway, Ja...|2016|    109|   6.4|  8612|            2.87|     70.0|              287.0|2023-09-22 08:11:...|      Colossal_shell|\n",
      "|  16|The Secret Life o...|Animation,Adventu...|The quiet life of...|        Chris Renaud|Louis C.K., Eric ...|2016|     87|   6.6|120259|          368.31|     61.0|            36831.0|2023-09-22 08:11:...|The Secret Life o...|\n",
      "|  17|       Hacksaw Ridge|Biography,Drama,H...|WWII American Arm...|          Mel Gibson|Andrew Garfield, ...|2016|    139|   8.2|211760|           67.12|     71.0|             6712.0|2023-09-22 08:11:...| Hacksaw Ridge_shell|\n",
      "|  18|        Jason Bourne|     Action,Thriller|The CIA's most da...|     Paul Greengrass|Matt Damon, Tommy...|2016|    123|   6.7|150823|          162.16|     58.0|            16216.0|2023-09-22 08:11:...|  Jason Bourne_shell|\n",
      "|  19|                Lion|     Biography,Drama|A five-year-old I...|         Garth Davis|Dev Patel, Nicole...|2016|    118|   8.1|102061|           51.69|     69.0|             5169.0|2023-09-22 08:11:...|          Lion_shell|\n",
      "|  20|             Arrival|Drama,Mystery,Sci-Fi|When twelve myste...|    Denis Villeneuve|Amy Adams, Jeremy...|2016|    116|   8.0|340798|           100.5|     81.0|            10050.0|2023-09-22 08:11:...|       Arrival_shell|\n",
      "+----+--------------------+--------------------+--------------------+--------------------+--------------------+----+-------+------+------+----------------+---------+-------------------+--------------------+--------------------+\n",
      "only showing top 20 rows\n",
      "\n"
     ]
    }
   ],
   "source": [
    "testImdb.show()"
   ]
  },
  {
   "cell_type": "code",
   "execution_count": 58,
   "id": "6e647ddc",
   "metadata": {},
   "outputs": [],
   "source": [
    "caDf = spark.read.option(\"inferSchema\", True).option(\"header\", True).csv(\"/home/labuser/Downloads/purchases.csv\")\n",
    "newCaDf = caDf.cache()"
   ]
  },
  {
   "cell_type": "code",
   "execution_count": 59,
   "id": "e1409ac7",
   "metadata": {},
   "outputs": [
    {
     "name": "stdout",
     "output_type": "stream",
     "text": [
      "+------+------+-------+\n",
      "|   _c0|apples|oranges|\n",
      "+------+------+-------+\n",
      "|  June|     3|      0|\n",
      "|Robert|     2|      3|\n",
      "|  Lily|     0|      7|\n",
      "| David|     1|      2|\n",
      "+------+------+-------+\n",
      "\n"
     ]
    },
    {
     "name": "stderr",
     "output_type": "stream",
     "text": [
      "23/09/22 08:33:30 WARN CSVHeaderChecker: CSV header does not conform to the schema.\n",
      " Header: , apples, oranges\n",
      " Schema: _c0, apples, oranges\n",
      "Expected: _c0 but found: \n",
      "CSV file: file:///home/labuser/Downloads/purchases.csv\n"
     ]
    }
   ],
   "source": [
    "newCaDf.show()"
   ]
  },
  {
   "cell_type": "code",
   "execution_count": 61,
   "id": "062db939",
   "metadata": {},
   "outputs": [
    {
     "name": "stdout",
     "output_type": "stream",
     "text": [
      "+------+------+-------+\n",
      "|   _c0|apples|oranges|\n",
      "+------+------+-------+\n",
      "|  June|     3|      0|\n",
      "|Robert|     2|      3|\n",
      "|  Lily|     0|      7|\n",
      "| David|     1|      2|\n",
      "+------+------+-------+\n",
      "\n"
     ]
    }
   ],
   "source": [
    "# Deleted purchases.csv file\n",
    "\n",
    "newCaDf.show()"
   ]
  },
  {
   "cell_type": "code",
   "execution_count": null,
   "id": "063be6a9",
   "metadata": {},
   "outputs": [],
   "source": []
  }
 ],
 "metadata": {
  "kernelspec": {
   "display_name": "Python 3 (ipykernel)",
   "language": "python",
   "name": "python3"
  },
  "language_info": {
   "codemirror_mode": {
    "name": "ipython",
    "version": 3
   },
   "file_extension": ".py",
   "mimetype": "text/x-python",
   "name": "python",
   "nbconvert_exporter": "python",
   "pygments_lexer": "ipython3",
   "version": "3.11.4"
  }
 },
 "nbformat": 4,
 "nbformat_minor": 5
}
