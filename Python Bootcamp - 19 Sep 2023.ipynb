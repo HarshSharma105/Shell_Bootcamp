{
 "cells": [
  {
   "cell_type": "markdown",
   "id": "9a82e4e2",
   "metadata": {},
   "source": [
    "# Day 25 - 19 Sep 2023\n",
    "\n",
    "## Harsh Sharma, Batch  : 003, Room : 009"
   ]
  },
  {
   "cell_type": "code",
   "execution_count": 1,
   "id": "7c8d5803",
   "metadata": {},
   "outputs": [
    {
     "name": "stdout",
     "output_type": "stream",
     "text": [
      "To calculate the volume of a gas we need Pressure, Gas constant, and Temperature\n",
      "Please enter the gas constant of the gas : 8.314\n",
      "Please enter the pressure of the gas (in Pa): 10000\n",
      "Please enter the temperature (in K): 300\n",
      "Volume of gas is 4.009301579664823 m^3\n"
     ]
    }
   ],
   "source": [
    "###  Creating a Function to calculate the volume of a gas\n",
    "\n",
    "print(\"To calculate the volume of a gas we need Pressure, Gas constant, and Temperature\")\n",
    "\n",
    "def volume_of_gas(pressure, temperature, Gas_constant):\n",
    "    \"\"\"\n",
    "    19/09/2023 - Harsh Sharma\n",
    "    Calculate the volume of the gas using the ideal gas law\n",
    "    Args:\n",
    "        pressure (float) : Pressure in pascals (Pa)\n",
    "        temperature (float) : Temperature in Kelvin (K)\n",
    "        gas_constant (float) : Gas Constant fo rthe specific gas\n",
    "    Return:\n",
    "        float : Volume in m^3\n",
    "    \"\"\"\n",
    "    return (pressure * 1.0)/(Gas_constant * temperature)\n",
    "\n",
    "\n",
    "Gas_constant = float(input(\"Please enter the gas constant of the gas : \"))\n",
    "pressure = float(input(\"Please enter the pressure of the gas (in Pa): \"))\n",
    "temp = float(input(\"Please enter the temperature (in K): \"))\n",
    "volume = volume_of_gas(pressure, temp, Gas_constant)\n",
    "print(f\"Volume of gas is {volume} m^3\")"
   ]
  },
  {
   "cell_type": "code",
   "execution_count": 2,
   "id": "90e4cbea",
   "metadata": {},
   "outputs": [
    {
     "name": "stdout",
     "output_type": "stream",
     "text": [
      "To calculate the Mass of the gas we need volume of the gas and molar mass\n",
      "But to calculate the volume, we need pressure, temp and gas constant\n",
      "Please enter the gas constant of the gas : 8.31\n",
      "Please enter the pressure of the gas (in Pa): 10000\n",
      "Please enter the temperature (in K): 321\n",
      "Please enter the molar mass of the gas (in g/mol): 2.0\n",
      "Mass of gas is 7497.628874868323 g\n"
     ]
    }
   ],
   "source": [
    "### Creating a function for Calculating the Mass of gas\n",
    "\n",
    "print(\"To calculate the Mass of the gas we need volume of the gas and molar mass\")\n",
    "print(\"But to calculate the volume, we need pressure, temp and gas constant\")\n",
    "\n",
    "def mass_of_gas(pressure, temperature, gas_constant, molar_mass):\n",
    "    \"\"\"\n",
    "    19/09/2023 - Harsh Sharma\n",
    "    Calculate the mass of the gas using the ideal gas law and molar mass\n",
    "    Args:\n",
    "        pressure (float) : Pressure in pascals (Pa)\n",
    "        temperature (float) : Temperature in Kelvin (K)\n",
    "        gas_constant (float) : Gas Constant fo rthe specific gas\n",
    "        molar_mass (float) : Molar mass of the gas in g/mol\n",
    "    Returns:\n",
    "        float: mass in grams(g)\n",
    "    \"\"\"\n",
    "    return (volume_of_gas(pressure, temperature, gas_constant) * molar_mass) * 1000\n",
    "\n",
    "Gas_constant = float(input(\"Please enter the gas constant of the gas : \"))\n",
    "pressure = float(input(\"Please enter the pressure of the gas (in Pa): \"))\n",
    "temp = float(input(\"Please enter the temperature (in K): \"))\n",
    "molar_mass = float(input(\"Please enter the molar mass of the gas (in g/mol): \"))\n",
    "gas_mass = mass_of_gas(pressure, temp, Gas_constant, molar_mass)\n",
    "print(f\"Mass of gas is {gas_mass} g\")"
   ]
  },
  {
   "cell_type": "code",
   "execution_count": 7,
   "id": "8216cd83",
   "metadata": {},
   "outputs": [
    {
     "data": {
      "text/plain": [
       "[]"
      ]
     },
     "execution_count": 7,
     "metadata": {},
     "output_type": "execute_result"
    }
   ],
   "source": [
    "sum([1,2,3])\n",
    "\n",
    "def funs():\n",
    "    l = [1, 2]\n",
    "    return l[2:]\n",
    "\n",
    "funs()"
   ]
  },
  {
   "cell_type": "code",
   "execution_count": 8,
   "id": "af270eb6",
   "metadata": {},
   "outputs": [],
   "source": [
    "def calculate_total_depth(segments):\n",
    "    \"\"\"\n",
    "\n",
    "\n",
    "    \"\"\"\n",
    "    if not segments:\n",
    "        return 0\n",
    "    else:\n",
    "        curr_seg_depth = segments[0]\n",
    "        remaining_seg_depth = segments[1:]\n",
    "        return curr_seg_depth + calculate_total_depth(remaining_seg_depth)"
   ]
  },
  {
   "cell_type": "code",
   "execution_count": 9,
   "id": "35f96445",
   "metadata": {},
   "outputs": [
    {
     "data": {
      "text/plain": [
       "6"
      ]
     },
     "execution_count": 9,
     "metadata": {},
     "output_type": "execute_result"
    }
   ],
   "source": [
    "calculate_total_depth([1,2,3])"
   ]
  },
  {
   "cell_type": "code",
   "execution_count": 11,
   "id": "8ed59235",
   "metadata": {},
   "outputs": [],
   "source": [
    "months = [\"Jan\", \"Feb\", \"Mar\", \"Apr\", \"May\", \"Jun\", \"Jul\", \"Aug\", \"Sep\", \"Oct\", \"Nov\", \"Dec\"]"
   ]
  },
  {
   "cell_type": "code",
   "execution_count": 14,
   "id": "2acfcae1",
   "metadata": {},
   "outputs": [
    {
     "name": "stdout",
     "output_type": "stream",
     "text": [
      "Jan's production : 1000.0\n",
      "\n",
      "Feb's production : 1000.0\n",
      "\n",
      "Mar's production : 1000.0\n",
      "\n",
      "Apr's production : 1000.0\n",
      "\n",
      "May's production : 1000.0\n",
      "\n",
      "Jun's production : 1000.0\n",
      "\n",
      "Jul's production : 1000.0\n",
      "\n",
      "Aug's production : 1000.0\n",
      "\n",
      "Sep's production : 1000.0\n",
      "\n",
      "Oct's production : 1000.0\n",
      "\n",
      "Nov's production : 1000.0\n",
      "\n",
      "Dec's production : 1000.0\n",
      "\n"
     ]
    }
   ],
   "source": [
    "def generate_oil_production_m(yearly_value):\n",
    "    for month in range(12):\n",
    "        yield f\"{months[month]}'s production : {yearly_value/12}\\n\"\n",
    "        \n",
    "        \n",
    "for production in generate_oil_production_m(12000): print(production)"
   ]
  },
  {
   "cell_type": "code",
   "execution_count": 20,
   "id": "b22f8460",
   "metadata": {},
   "outputs": [
    {
     "name": "stdout",
     "output_type": "stream",
     "text": [
      "Jan's production : 1000.0\n",
      "\n",
      "Feb's production : 1000.0\n",
      "\n",
      "Mar's production : 1000.0\n",
      "\n",
      "Apr's production : 1000.0\n",
      "\n",
      "May's production : 1000.0\n",
      "\n",
      "Jun's production : 1000.0\n",
      "\n",
      "Jul's production : 1000.0\n",
      "\n",
      "Aug's production : 1000.0\n",
      "\n",
      "Sep's production : 1000.0\n",
      "\n",
      "Oct's production : 1000.0\n",
      "\n",
      "Nov's production : 1000.0\n",
      "\n",
      "Dec's production : 1000.0\n",
      "\n"
     ]
    }
   ],
   "source": [
    "import logging\n",
    "\n",
    "def my_decorator(fun):\n",
    "    def wrapper(*args, **kwargs):\n",
    "        logging.info(f\"Started function: \", fun.__name__)\n",
    "        result = fun(*args, **kwargs)\n",
    "        logging.info(\"Stopped function : \", fun.__name__)\n",
    "        return result\n",
    "    return wrapper\n",
    "\n",
    "@my_decorator\n",
    "def generate_oil_production_m(yearly_value):\n",
    "    for month in range(12):\n",
    "        yield f\"{months[month]}'s production : {yearly_value/12}\\n\"\n",
    "        \n",
    "logging.basicConfig(logging.level = WARNING)        \n",
    "\n",
    "for prod in generate_oil_production_m(12000): print(prod)\n"
   ]
  },
  {
   "cell_type": "code",
   "execution_count": 2,
   "id": "e855c1b7",
   "metadata": {},
   "outputs": [
    {
     "name": "stdout",
     "output_type": "stream",
     "text": [
      "White 23\n"
     ]
    }
   ],
   "source": [
    "# Classes, Objects, Constructors\n",
    "\n",
    "class Person:\n",
    "    def __init__(self, name, age):\n",
    "        self.name = name\n",
    "        self.age = age\n",
    "        \n",
    "    def introduce(self):\n",
    "        return f\"Hello!, I'm {self.name} and I'm {self.age} years old.\"\n",
    "    \n",
    "    def have_birthday(self):\n",
    "        self.age += 1 \n",
    "        return f\"Hi, it's my birthday. I'm {self.age} years old now.\"\n",
    "    \n",
    "newUser = Person(\"White\", 23)\n",
    "\n",
    "print(newUser.name, newUser.age)"
   ]
  },
  {
   "cell_type": "code",
   "execution_count": 4,
   "id": "6c0e5509",
   "metadata": {},
   "outputs": [
    {
     "name": "stdout",
     "output_type": "stream",
     "text": [
      "Volume :  4.009301579664823\n",
      "Mass :  8018.603159329645\n"
     ]
    }
   ],
   "source": [
    "class Gas:\n",
    "    def __init__(self, name, molarMass, gasConstant):\n",
    "        self.name = name\n",
    "        self.molarMass = molarMass\n",
    "        self.gasConstant = gasConstant\n",
    "        \n",
    "    def volume_of_gas(self, pressure, temperature):\n",
    "        \"\"\"\n",
    "        19/09/2023 - Harsh Sharma\n",
    "        Calculate the volume of the gas using the ideal gas law\n",
    "        Args:\n",
    "            pressure (float) : Pressure in pascals (Pa)\n",
    "            temperature (float) : Temperature in Kelvin (K)\n",
    "            gas_constant (float) : Gas Constant fo rthe specific gas\n",
    "        Return:\n",
    "            float : Volume in m^3\n",
    "        \"\"\"\n",
    "        return (pressure * 1.0)/(self.gasConstant * temperature)\n",
    "    \n",
    "    \n",
    "    def mass_of_gas(self, pressure, temperature):\n",
    "        \"\"\"\n",
    "        19/09/2023 - Harsh Sharma\n",
    "        Calculate the mass of the gas using the ideal gas law and molar mass\n",
    "        Args:\n",
    "            pressure (float) : Pressure in pascals (Pa)\n",
    "            temperature (float) : Temperature in Kelvin (K)\n",
    "            gas_constant (float) : Gas Constant fo rthe specific gas\n",
    "            molar_mass (float) : Molar mass of the gas in g/mol\n",
    "        Returns:\n",
    "            float: mass in grams(g)\n",
    "        \"\"\"\n",
    "        return (self.volume_of_gas(pressure, temperature) * self.molarMass) * 1000\n",
    "    \n",
    "newGas = Gas(\"Oxygen\", 2.0, 8.314)\n",
    "\n",
    "print(\"Volume : \", newGas.volume_of_gas(10000, 300))\n",
    "print(\"Mass : \", newGas.mass_of_gas(10000, 300))"
   ]
  },
  {
   "cell_type": "code",
   "execution_count": 5,
   "id": "85b6bb02",
   "metadata": {},
   "outputs": [
    {
     "name": "stdout",
     "output_type": "stream",
     "text": [
      "1695113125.8408108\n"
     ]
    }
   ],
   "source": [
    "### Timestamps\n",
    "\n",
    "import time \n",
    "\n",
    "### Gives time in \"Epochs\"\n",
    "curr_time = time.time()\n",
    "print(curr_time)"
   ]
  },
  {
   "cell_type": "code",
   "execution_count": 7,
   "id": "e4332e10",
   "metadata": {},
   "outputs": [
    {
     "name": "stdout",
     "output_type": "stream",
     "text": [
      "2023-09-19 08:52:52.924499\n"
     ]
    }
   ],
   "source": [
    "from datetime import datetime\n",
    "print(datetime.now())"
   ]
  },
  {
   "cell_type": "code",
   "execution_count": 8,
   "id": "89f24c15",
   "metadata": {},
   "outputs": [
    {
     "name": "stdout",
     "output_type": "stream",
     "text": [
      "2023-09-19\n"
     ]
    }
   ],
   "source": [
    "print(datetime.fromtimestamp(curr_time).strftime('%Y-%m-%d'))"
   ]
  },
  {
   "cell_type": "code",
   "execution_count": 15,
   "id": "5603b47d",
   "metadata": {},
   "outputs": [
    {
     "name": "stdout",
     "output_type": "stream",
     "text": [
      "09/19/23, (19-09-23-08:57:50)\n"
     ]
    }
   ],
   "source": [
    "print(datetime.now().strftime('%D, (%d-%m-%y-%H:%M:%S)'))"
   ]
  },
  {
   "cell_type": "code",
   "execution_count": 17,
   "id": "e0ba6a56",
   "metadata": {},
   "outputs": [
    {
     "name": "stdout",
     "output_type": "stream",
     "text": [
      "1695113902, (19-09-23-08:58:22)\n"
     ]
    }
   ],
   "source": [
    "print(datetime.now().strftime('%s, (%d-%m-%y-%H:%M:%S)'))"
   ]
  },
  {
   "cell_type": "code",
   "execution_count": 22,
   "id": "0f1310f4",
   "metadata": {},
   "outputs": [
    {
     "name": "stdout",
     "output_type": "stream",
     "text": [
      "Error: someone divided by zero!\n",
      "Completed Execution!\n"
     ]
    }
   ],
   "source": [
    "### Exceptional Handling\n",
    "\n",
    "a = 10\n",
    "b = 0\n",
    "try:\n",
    "    result = a/b\n",
    "    print(result)\n",
    "except:\n",
    "    print(\"Error: someone divided by zero!\")\n",
    "finally:\n",
    "    print(\"Completed Execution!\")"
   ]
  },
  {
   "cell_type": "code",
   "execution_count": 27,
   "id": "3ef09f7e",
   "metadata": {},
   "outputs": [
    {
     "name": "stdout",
     "output_type": "stream",
     "text": [
      "[1, 9, 25, 49, 81, 121, 169, 225, 289, 361, 441, 529, 625, 729, 841]\n"
     ]
    }
   ],
   "source": [
    "### List comprehension\n",
    "\n",
    "sqr_odd_list = [i**2 for i in range(1,30,2) if i&1 ]\n",
    "\n",
    "print(sqr_odd_list)"
   ]
  },
  {
   "cell_type": "code",
   "execution_count": 29,
   "id": "1da98ab7",
   "metadata": {},
   "outputs": [
    {
     "name": "stdout",
     "output_type": "stream",
     "text": [
      "11\n"
     ]
    }
   ],
   "source": [
    "### Lambda Function\n",
    "\n",
    "# lambda args:expr\n",
    "\n",
    "a,b = 5,6\n",
    "add_func = lambda a,b : a+b\n",
    "print(add_func(a,b))"
   ]
  },
  {
   "cell_type": "code",
   "execution_count": null,
   "id": "f1a14356",
   "metadata": {},
   "outputs": [],
   "source": []
  }
 ],
 "metadata": {
  "kernelspec": {
   "display_name": "Python 3 (ipykernel)",
   "language": "python",
   "name": "python3"
  },
  "language_info": {
   "codemirror_mode": {
    "name": "ipython",
    "version": 3
   },
   "file_extension": ".py",
   "mimetype": "text/x-python",
   "name": "python",
   "nbconvert_exporter": "python",
   "pygments_lexer": "ipython3",
   "version": "3.11.4"
  }
 },
 "nbformat": 4,
 "nbformat_minor": 5
}
